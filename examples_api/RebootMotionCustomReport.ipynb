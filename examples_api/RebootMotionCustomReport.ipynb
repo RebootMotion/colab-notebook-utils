{
 "cells": [
  {
   "cell_type": "markdown",
   "source": [
    "# Demo Notebook for Creating a Reboot Motion Custom Report from a File\n",
    "\n",
    "__[CoLab Notebook Link](https://githubtocolab.com/RebootMotion/reboot-toolkit/blob/main/examples_api/RebootMotionCustomReport.ipynb)__\n",
    "\n",
    "Run the cells in order, making sure to enter your API KEY in the cell when prompted"
   ],
   "metadata": {
    "collapsed": false
   },
   "id": "5928f1d0ef3b07fc"
  },
  {
   "cell_type": "code",
   "execution_count": null,
   "outputs": [],
   "source": [
    "#@title Install Python Libraries\n",
    "\n",
    "!pip install pandas\n",
    "!pip install requests"
   ],
   "metadata": {
    "collapsed": false
   },
   "id": "738950b7b1d535a8"
  },
  {
   "cell_type": "code",
   "execution_count": null,
   "outputs": [],
   "source": [
    "#@title Import Python Libraries\n",
    "\n",
    "import pandas as pd\n",
    "import requests\n",
    "\n",
    "from getpass import getpass"
   ],
   "metadata": {
    "collapsed": false
   },
   "id": "80d84b674c55533d"
  },
  {
   "cell_type": "code",
   "execution_count": null,
   "outputs": [],
   "source": [
    "#@title Set your Reboot Motion API Key\n",
    "\n",
    "# If you don't have an API KEY already, log in to the dashboard and create one, \n",
    "# then paste your API KEY below when prompted\n",
    "API_KEY = getpass('Input Reboot Motion API Key:')\n",
    "\n",
    "API_HEADER = {'x-api-key': API_KEY}\n",
    "API_URL_SEGMENTS = \"https://api.rebootmotion.com/player_group_segments\"\n",
    "API_URL_REQUESTED_ANALYSES = \"https://api.rebootmotion.com/requested_analyses\""
   ],
   "metadata": {
    "collapsed": false
   },
   "id": "f450aece5ff877b5"
  },
  {
   "cell_type": "code",
   "execution_count": null,
   "outputs": [],
   "source": [
    "#@title Set Player and Play Metadata for the Custom Report\n",
    "\n",
    "# Set the name for the report\n",
    "# We recommend using the format \"primary segment label vs comparison segment label\"\n",
    "REPORT_TITLE = 'Player Pitch Type 1 vs Pitch Type 2'\n",
    "\n",
    "# Set the dominant hand for the analysis\n",
    "DOM_HAND = 'RHA'  # either RHA or LHA\n",
    "\n",
    "# Reboot Motion's movement type ID\n",
    "# 1 = baseball-hitting\n",
    "# 2 = baseball-pitching\n",
    "MOVEMENT_TYPE_ID = 2  "
   ],
   "metadata": {
    "collapsed": false
   },
   "id": "4e0b31bdc949b30b"
  },
  {
   "cell_type": "code",
   "execution_count": null,
   "outputs": [],
   "source": [
    "#@title Upload File with Play IDs and a Column for Filtering\n",
    "\n",
    "# 1) Upload a CSV or Excel file with a column of mlb play GUIDs\n",
    "\n",
    "# 2) Type the filename for the uploaded \n",
    "custom_metadata_filename = ''\n",
    "\n",
    "# 3) Set the name of the column with the mlb play GUID\n",
    "metadata_play_id_name = 'guid'\n",
    "\n",
    "# 4) Set the name of the column with categories for filtering the primary and comparison segments\n",
    "col_for_filtering = 'pitch_type'\n",
    "\n",
    "if len(custom_metadata_filename.strip()) > 0:\n",
    "    if custom_metadata_filename.endswith('.xlsx'):\n",
    "        df = pd.read_excel(custom_metadata_filename)\n",
    "    \n",
    "    elif custom_metadata_filename.endswith('.csv'):\n",
    "        df = pd.read_csv(custom_metadata_filename)\n",
    "    \n",
    "    else:\n",
    "        raise ValueError('Unsupported file type - only CSVs or Excel files are accepted')\n",
    "\n",
    "else:\n",
    "    raise FileNotFoundError('Upload a CSV or Excel file and type the name above')"
   ],
   "metadata": {
    "collapsed": false
   },
   "id": "be6a09e44aaca895"
  },
  {
   "cell_type": "code",
   "execution_count": null,
   "outputs": [],
   "source": [
    "#@title Create the Primary Analysis Segment\n",
    "\n",
    "# list of column values to filter on from the uploaded file for the primary segment\n",
    "primary_segment_vals_to_filter_on = {'pitch type 1'}\n",
    "\n",
    "primary_segment_movements = list(\n",
    "    df.loc[df[col_for_filtering].isin(primary_segment_vals_to_filter_on)][metadata_play_id_name].unique()\n",
    ")\n",
    "\n",
    "primary_segment_criteria = {\n",
    "    \"external_context_ids\": primary_segment_movements,\n",
    "    \"movement_type_id\": MOVEMENT_TYPE_ID,\n",
    "    \"dom_hand\": DOM_HAND\n",
    "}\n",
    "\n",
    "create_primary_segment = requests.post(\n",
    "    API_URL_SEGMENTS,\n",
    "    headers=API_HEADER,\n",
    "    json=primary_segment_criteria\n",
    ")\n",
    "\n",
    "primary_segment_id = create_primary_segment.json()[\"analysis_segment_id\"]\n",
    "\n",
    "print('Primary analysis segment created with ID', primary_segment_id)"
   ],
   "metadata": {
    "collapsed": false
   },
   "id": "4abd7591d2f222b5"
  },
  {
   "cell_type": "code",
   "execution_count": null,
   "outputs": [],
   "source": [
    "#@title Create the Comparison Analysis Segment\n",
    "\n",
    "# list of column values to filter on from the uploaded file for the primary segment\n",
    "comparison_segment_vals_to_filter_on = {'pitch type 2'}\n",
    "\n",
    "comparison_segment_movements = list(\n",
    "    df.loc[df[col_for_filtering].isin(comparison_segment_vals_to_filter_on)][metadata_play_id_name].unique()\n",
    ")\n",
    "        \n",
    "comparison_segment_criteria = {\n",
    "    \"external_context_ids\": comparison_segment_movements,\n",
    "    \"movement_type_id\": MOVEMENT_TYPE_ID,\n",
    "    \"dom_hand\": DOM_HAND\n",
    "}\n",
    "\n",
    "create_comparison_segment = requests.post(\n",
    "    API_URL_SEGMENTS,\n",
    "    headers=API_HEADER,\n",
    "    json=comparison_segment_criteria\n",
    ")\n",
    "\n",
    "comparison_segment_id = create_comparison_segment.json()[\"analysis_segment_id\"]\n",
    "\n",
    "print('Comparison analysis segment created with ID', comparison_segment_id)"
   ],
   "metadata": {
    "collapsed": false
   },
   "id": "2f90a8dfc210d715"
  },
  {
   "cell_type": "code",
   "execution_count": null,
   "outputs": [],
   "source": [
    "#@title Submit the Custom Analysis Request\n",
    "\n",
    "requested_analysis_criteria = {\n",
    "    \"name\": REPORT_TITLE,\n",
    "    \"primary_analysis_segment_id\": int(primary_segment_id),\n",
    "    \"comparison_analysis_segment_id\": int(comparison_segment_id),\n",
    "    \"status\": \"requested\"\n",
    "}\n",
    "\n",
    "create_requested_analysis = requests.post(\n",
    "    API_URL_REQUESTED_ANALYSES,\n",
    "    headers=API_HEADER,\n",
    "    json=requested_analysis_criteria\n",
    ")\n",
    "\n",
    "print(\"Submitted Requested Analysis Request!\")\n",
    "print(\"Log in to your Dashboard and the Request will show up under the Analyze Tab\")\n",
    "print()\n",
    "print('Below is the API Response (if there was an error, contact Reboot Motion support)')\n",
    "print(create_requested_analysis.json())"
   ],
   "metadata": {
    "collapsed": false
   },
   "id": "b6caedc742eef94f"
  }
 ],
 "metadata": {
  "kernelspec": {
   "display_name": "Python 3",
   "language": "python",
   "name": "python3"
  },
  "language_info": {
   "codemirror_mode": {
    "name": "ipython",
    "version": 2
   },
   "file_extension": ".py",
   "mimetype": "text/x-python",
   "name": "python",
   "nbconvert_exporter": "python",
   "pygments_lexer": "ipython2",
   "version": "2.7.6"
  }
 },
 "nbformat": 4,
 "nbformat_minor": 5
}
