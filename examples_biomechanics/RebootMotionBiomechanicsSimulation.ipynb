{
 "cells": [
  {
   "cell_type": "markdown",
   "metadata": {
    "id": "tSkr03E15m2w"
   },
   "source": [
    "# Notebook for Integrating Reboot Motion Data with MuJoCo\n",
    "\n",
    "__[CoLab Notebook Link](https://githubtocolab.com/RebootMotion/reboot-toolkit/blob/main/examples/RebootMotionMuJoCo.ipynb)__\n",
    "\n",
    "Run the cells in order, making sure to enter AWS credentials in the cell when prompted"
   ]
  },
  {
   "cell_type": "code",
   "execution_count": null,
   "metadata": {
    "cellView": "form",
    "colab": {
     "base_uri": "https://localhost:8080/"
    },
    "id": "CtfKvfQHlHdx",
    "outputId": "c7ae1dab-ae22-4f86-dfce-9e7524ec2567",
    "pycharm": {
     "is_executing": true
    }
   },
   "outputs": [],
   "source": [
    "#@title Install Python Package\n",
    "\n",
    "!pip install git+https://github.com/RebootMotion/reboot-toolkit.git@jimmy/add_mujoco > /dev/null\n",
    "!pip install git+https://github.com/RebootMotion/mlb-statsapi.git@v1.1.0#egg=mlb_statsapi > /dev/null\n",
    "!echo \"Done Installing\""
   ]
  },
  {
   "cell_type": "code",
   "execution_count": null,
   "metadata": {
    "cellView": "form",
    "id": "2FxRcqDgEXce"
   },
   "outputs": [],
   "source": [
    "#@title Import Python Libraries\n",
    "\n",
    "import matplotlib.pyplot as plt\n",
    "import mujoco\n",
    "import numpy as np\n",
    "import os\n",
    "import pandas as pd\n",
    "\n",
    "from IPython.display import display\n",
    "from tqdm import tqdm\n",
    "\n",
    "import reboot_toolkit as rtk\n",
    "\n",
    "from reboot_toolkit import S3Metadata, MocapType, MovementType, Handedness, FileType, PlayerMetadata, setup_aws, decorate_primary_segment_df_with_stats_api"
   ]
  },
  {
   "cell_type": "code",
   "execution_count": null,
   "metadata": {},
   "outputs": [],
   "source": [
    "#@title User Input - No code changes required below this section, just enter information in forms\n",
    "\n",
    "# Update the below info to match your desired analysis information\n",
    "# Common changes you might want to make:\n",
    "\n",
    "# To analyze both Hawk-Eye HFR data from the Stats API,\n",
    "# and also Hawk-Eye Action files (e.g. from the DSP),\n",
    "#  set mocap_types=[MocapType.HAWKEYE_HFR, MocapType.HAWKEYE]\n",
    "\n",
    "# To analyze baseball-hitting,\n",
    "# set movement_type=MovementType.BASEBALL_HITTING\n",
    "\n",
    "# To analyze right-handed players,\n",
    "# set handedness=Handedness.RIGHT\n",
    "\n",
    "# To analyze data from the momentum and energy files,\n",
    "# set file_type=FileType.MOMENTUM_ENERGY\n",
    "\n",
    "# See https://docs.rebootmotion.com/ for all available file types and the data in each\n",
    "mocap_types = [MocapType.HAWKEYE_HFR]\n",
    "movement_type = MovementType.BASEBALL_PITCHING\n",
    "handedness = Handedness.RIGHT\n",
    "file_type = FileType.INVERSE_KINEMATICS\n",
    "\n",
    "# Update the label to whatever you'd like to be displayed in the visuals\n",
    "primary_segment_label = 'Primary Segment'\n",
    "comparison_segment_label = 'Comparison Segment'"
   ]
  },
  {
   "cell_type": "code",
   "execution_count": null,
   "metadata": {
    "colab": {
     "base_uri": "https://localhost:8080/"
    },
    "executionInfo": {
     "elapsed": 243357,
     "status": "ok",
     "timestamp": 1682088623455,
     "user": {
      "displayName": "Jimmy Buffi",
      "userId": "02111946216068691065"
     },
     "user_tz": 420
    },
    "id": "IGSVVhSKWZKY",
    "outputId": "cbc1838b-c5c2-4e6a-ee3b-5e712a550440"
   },
   "outputs": [],
   "source": [
    "#@title AWS Credentials\n",
    "\n",
    "# Upload your Organization's .env file to the local file system, per https://pypi.org/project/python-dotenv/\n",
    "#\n",
    "# Also, update the org_id in the field below to your own org_id\n",
    "# (note this isn't strictly necessary, the .env file will override what's written here)\n",
    "\n",
    "boto3_session = setup_aws(org_id=\"org-mlbbiomech\", aws_default_region=\"us-west-1\")"
   ]
  },
  {
   "cell_type": "code",
   "execution_count": null,
   "metadata": {},
   "outputs": [],
   "source": [
    "#@title Set S3 File Info\n",
    "\n",
    "s3_metadata = S3Metadata(\n",
    "    org_id=os.environ['ORG_ID'],\n",
    "    mocap_types=mocap_types,\n",
    "    movement_type=movement_type,\n",
    "    handedness=handedness,\n",
    "    file_type=file_type,\n",
    ")\n",
    "\n",
    "s3_df = rtk.download_s3_summary_df(s3_metadata)"
   ]
  },
  {
   "cell_type": "code",
   "execution_count": null,
   "outputs": [],
   "source": [
    "def mujoco_sim(mj_model, mj_data, mj_joint_names, positions_df, velocities_df):\n",
    "    \n",
    "    col_suffix = \"invdyn\"\n",
    "    \n",
    "    sim_results = []\n",
    "    \n",
    "    for i, row_pos in positions_df.iterrows():\n",
    "        \n",
    "        row_vel = velocities_df.iloc[i]\n",
    "        \n",
    "        mj_data.qpos = row_pos.to_numpy()\n",
    "        \n",
    "        mj_data.qvel = row_vel.to_numpy()\n",
    "        \n",
    "        mujoco.mj_step(mj_model, mj_data)\n",
    "        \n",
    "        mujoco.mj_inverse(mj_model, mj_data)\n",
    "        \n",
    "        sim_results.append(mj_data.qfrc_inverse.copy())\n",
    "        \n",
    "    return pd.DataFrame(\n",
    "        data=sim_results, columns=[f\"{jn}_{col_suffix}\" for jn in mj_joint_names]\n",
    "    )"
   ],
   "metadata": {
    "collapsed": false
   }
  },
  {
   "cell_type": "code",
   "execution_count": null,
   "outputs": [],
   "source": [
    "def simulate_segment_df(model_xml_str, segment_data_df):\n",
    "    \n",
    "    joint_names = rtk.get_model_info(model_xml_str, 'joint', return_names=True)\n",
    "    \n",
    "    model = mujoco.MjModel.from_xml_string(model_xml_str)\n",
    "    \n",
    "    sim_dfs = []\n",
    "    \n",
    "    for org_movement_id in tqdm(segment_data_df['org_movement_id'].unique()):\n",
    "        \n",
    "        data = mujoco.MjData(model)\n",
    "        \n",
    "        ik_df = segment_data_df.loc[\n",
    "            segment_data_df['org_movement_id'] == org_movement_id\n",
    "        ].copy().reset_index(drop=True)\n",
    "\n",
    "        dt = ik_df['time'].diff().median()\n",
    "\n",
    "        model.opt.timestep = dt\n",
    "\n",
    "        ik_df = rtk.reorder_joint_angle_df_like_model(model, data, ik_df, joint_names).apply(np.radians)\n",
    "\n",
    "        vel_df = ik_df.copy().apply(np.gradient, raw=True) / dt\n",
    "\n",
    "        sim_dfs.append(mujoco_sim(model, data, joint_names, ik_df, vel_df))\n",
    "    \n",
    "    sim_df = pd.concat(sim_dfs, ignore_index=True)\n",
    "    \n",
    "    return pd.concat([segment_data_df, sim_df], axis=1)"
   ],
   "metadata": {
    "collapsed": false
   }
  },
  {
   "cell_type": "code",
   "execution_count": null,
   "metadata": {},
   "outputs": [],
   "source": [
    "#@title Display the Interface for Selecting the Primary Data Segment to Analyze\n",
    "\n",
    "# Run this cell to display the dropdown menus and reset all options to NULL\n",
    "primary_segment_widget = rtk.create_interactive_widget(s3_df)\n",
    "display(primary_segment_widget)"
   ]
  },
  {
   "cell_type": "code",
   "execution_count": null,
   "metadata": {},
   "outputs": [],
   "source": [
    "#@title Set Primary Analysis Segment Info\n",
    "\n",
    "primary_segment_data = primary_segment_widget.children[1].result\n",
    "primary_analysis_segment = PlayerMetadata(\n",
    "    org_player_ids=primary_segment_data[\"org_player_ids\"],\n",
    "    session_dates=primary_segment_data[\"session_dates\"],\n",
    "    session_nums=primary_segment_data[\"session_nums\"],\n",
    "    session_date_start=primary_segment_data[\"session_date_start\"],\n",
    "    session_date_end=primary_segment_data[\"session_date_end\"],\n",
    "    year=primary_segment_data[\"year\"],\n",
    "    org_movement_id=None, # set the play GUID for the skeleton animation; None defaults to the first play\n",
    "    s3_metadata=s3_metadata,\n",
    ")\n",
    "\n",
    "primary_segment_summary_df = rtk.filter_s3_summary_df(primary_analysis_segment, s3_df)\n",
    "\n",
    "primary_segment_data_df = rtk.load_games_to_df_from_s3_paths(\n",
    "    primary_segment_summary_df['s3_path_delivery'].tolist(), add_ik_joints=True, add_elbow_var_val=True\n",
    ")\n",
    "\n",
    "primary_segment_data_df = decorate_primary_segment_df_with_stats_api(primary_segment_data_df)\n",
    "\n",
    "# Common Issue:\n",
    "# If no data files are returned here,\n",
    "# check that the segment selection widget and the S3 File Info above are set correctly,\n",
    "# also if the cells were updated after running once, check that they were run again with any new selections."
   ]
  },
  {
   "cell_type": "code",
   "execution_count": null,
   "outputs": [],
   "source": [
    "primary_player_mass = 81.6\n",
    "\n",
    "primary_model_xml_str = rtk.scale_human_xml(primary_segment_data_df, primary_player_mass, boto3_session=boto3_session)\n",
    "\n",
    "primary_sim_data_df = simulate_segment_df(primary_model_xml_str, primary_segment_data_df)\n",
    "\n",
    "primary_segment_dict = rtk.load_data_into_analysis_dict(\n",
    "    primary_analysis_segment, primary_sim_data_df, segment_label=primary_segment_label\n",
    ")"
   ],
   "metadata": {
    "collapsed": false
   }
  },
  {
   "cell_type": "code",
   "execution_count": null,
   "metadata": {},
   "outputs": [],
   "source": [
    "#@title Display the Interface for Selecting the Comparison Data Segment to Analyze\n",
    "\n",
    "comparison_segment_widget = rtk.create_interactive_widget(s3_df)\n",
    "display(comparison_segment_widget)"
   ]
  },
  {
   "cell_type": "code",
   "execution_count": null,
   "metadata": {},
   "outputs": [],
   "source": [
    "#@title Set Comparison Analysis Segment Inputs\n",
    "\n",
    "comparison_s3_metadata = s3_metadata\n",
    "comparison_segment_data = comparison_segment_widget.children[1].result\n",
    "\n",
    "comparison_analysis_segment = PlayerMetadata(\n",
    "    org_player_ids=comparison_segment_data[\"org_player_ids\"],\n",
    "    session_dates=comparison_segment_data[\"session_dates\"],\n",
    "    session_nums=comparison_segment_data[\"session_nums\"],\n",
    "    session_date_start=comparison_segment_data[\"session_date_start\"],\n",
    "    session_date_end=comparison_segment_data[\"session_date_end\"],\n",
    "    year=comparison_segment_data[\"year\"],\n",
    "    org_movement_id=None, # set the play GUID for the skeleton animation; None defaults to the first play\n",
    "    s3_metadata=comparison_s3_metadata,\n",
    ")\n",
    "\n",
    "comparison_segment_summary_df = rtk.filter_s3_summary_df(comparison_analysis_segment, s3_df)\n",
    "\n",
    "comparison_segment_data_df = rtk.load_games_to_df_from_s3_paths(\n",
    "    comparison_segment_summary_df['s3_path_delivery'].tolist(), add_ik_joints=True, add_elbow_var_val=True\n",
    ")\n",
    "\n",
    "comparison_segment_data_df = decorate_primary_segment_df_with_stats_api(comparison_segment_data_df)"
   ]
  },
  {
   "cell_type": "code",
   "execution_count": null,
   "outputs": [],
   "source": [
    "comparison_player_mass = 81.6\n",
    "\n",
    "comparison_model_xml_str = rtk.scale_human_xml(comparison_segment_data_df, comparison_player_mass, boto3_session=boto3_session)\n",
    "\n",
    "comparison_sim_data_df = simulate_segment_df(comparison_model_xml_str, comparison_segment_data_df)"
   ],
   "metadata": {
    "collapsed": false
   }
  },
  {
   "cell_type": "code",
   "execution_count": null,
   "outputs": [],
   "source": [
    "comparison_segment_dict = rtk.load_data_into_analysis_dict(\n",
    "    comparison_analysis_segment, comparison_sim_data_df, segment_label=comparison_segment_label\n",
    ")"
   ],
   "metadata": {
    "collapsed": false
   }
  },
  {
   "cell_type": "code",
   "execution_count": null,
   "outputs": [],
   "source": [
    "# analysis_dicts = [primary_segment_dict]\n",
    "analysis_dicts = [primary_segment_dict, comparison_segment_dict]"
   ],
   "metadata": {
    "collapsed": false
   }
  },
  {
   "cell_type": "code",
   "execution_count": null,
   "outputs": [],
   "source": [
    "#@title Optional - Create Simple Comparison Plots\n",
    "\n",
    "# Available time options for the x_column include: 'time_from_max_hand', 'norm_time', 'rel_frame', 'time'\n",
    "x_column = 'time_from_max_hand'\n",
    "\n",
    "y_columns = ['right_shoulder_rot_invdyn, right_elbow_var_invdyn', 'right_elbow_flex_invdyn']\n",
    "\n",
    "# Set the y-axis label to whatever is appropriate for the y-columns above\n",
    "y_axis_label = \"Torque (Nm)\"\n",
    "\n",
    "# Update to the number of standard deviations you want to shade in the plot relative to the mean\n",
    "stand_devs_to_shade = 1.0\n",
    "\n",
    "mpl_figs = []\n",
    "\n",
    "for y_column in y_columns:\n",
    "\n",
    "    mpl_fig = plt.figure()\n",
    "\n",
    "    for segment_dict in analysis_dicts:\n",
    "\n",
    "        y = segment_dict['df_mean'][y_column]\n",
    "\n",
    "        y_lo = segment_dict['df_mean'][y_column] - (stand_devs_to_shade * segment_dict['df_std'][y_column])\n",
    "        y_hi = segment_dict['df_mean'][y_column] + (stand_devs_to_shade * segment_dict['df_std'][y_column])\n",
    "\n",
    "        plt.fill_between(segment_dict['df_mean'][x_column], y_lo, y_hi, alpha=0.4)\n",
    "\n",
    "        plt.plot(segment_dict['df_mean'][x_column], y, label=segment_dict['segment_label'])\n",
    "\n",
    "    plt.ylabel(y_axis_label)\n",
    "\n",
    "    plt.xlabel(x_column)\n",
    "    # plt.xlim([-1, 0.1])  # uncomment to limit the width of the x-axis\n",
    "\n",
    "    plt.title(y_column)\n",
    "\n",
    "    plt.legend()\n",
    "\n",
    "    plt.grid()\n",
    "\n",
    "    plt.show()\n",
    "\n",
    "    mpl_figs.append(mpl_fig)"
   ],
   "metadata": {
    "collapsed": false
   }
  },
  {
   "cell_type": "code",
   "execution_count": null,
   "outputs": [],
   "source": [
    "#@title Optional - Save Plots to a PDF\n",
    "\n",
    "from matplotlib.backends.backend_pdf import PdfPages\n",
    "\n",
    "pdf_file_name = 'analysis.pdf'\n",
    "\n",
    "pdf_analysis = PdfPages(pdf_file_name)\n",
    "\n",
    "for mpl_fig in mpl_figs:\n",
    "\n",
    "    pdf_analysis.savefig(mpl_fig)\n",
    "\n",
    "pdf_analysis.close()\n",
    "\n",
    "print('Saved plots to', pdf_file_name)"
   ],
   "metadata": {
    "collapsed": false
   }
  }
 ],
 "metadata": {
  "colab": {
   "provenance": []
  },
  "gpuClass": "standard",
  "kernelspec": {
   "display_name": "Python 3 (ipykernel)",
   "language": "python",
   "name": "python3"
  },
  "language_info": {
   "codemirror_mode": {
    "name": "ipython",
    "version": 3
   },
   "file_extension": ".py",
   "mimetype": "text/x-python",
   "name": "python",
   "nbconvert_exporter": "python",
   "pygments_lexer": "ipython3",
   "version": "3.9.17"
  }
 },
 "nbformat": 4,
 "nbformat_minor": 1
}
