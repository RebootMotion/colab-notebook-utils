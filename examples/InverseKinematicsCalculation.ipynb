{
 "cells": [
  {
   "cell_type": "markdown",
   "metadata": {
    "id": "tSkr03E15m2w"
   },
   "source": [
    "# Demo Notebook for Calculating Inverse Kinematics\n",
    "\n",
    "Run the cells in order, making sure to enter AWS credentials in the cell when prompted\n"
   ]
  },
  {
   "cell_type": "code",
   "execution_count": null,
   "metadata": {},
   "outputs": [],
   "source": [
    "!pip install git+https://github.com/RebootMotion/colab-notebook-utils.git@v1.1.0#egg=colab_notebook_utils\n",
    "!wget https://raw.githubusercontent.com/RebootMotion/colab-notebook-utils/main/examples/001_baseball_pitching_right_handed.trc"
   ]
  },
  {
   "cell_type": "code",
   "execution_count": null,
   "metadata": {
    "cellView": "form",
    "id": "2FxRcqDgEXce"
   },
   "outputs": [],
   "source": [
    "#@title Import Statements\n",
    "\n",
    "import numpy as np\n",
    "import os\n",
    "import pandas as pd\n",
    "\n",
    "from typing import Optional, Tuple, List, Dict, Any\n",
    "from enum import Enum\n",
    "from dataclasses import dataclass\n",
    "import boto3\n",
    "from getpass import getpass\n",
    "\n",
    "import colab_notebook_utils as utils"
   ]
  },
  {
   "cell_type": "code",
   "execution_count": null,
   "metadata": {},
   "outputs": [],
   "source": [
    "#@title AWS Credentials\n",
    "\n",
    "os.environ['AWS_ACCESS_KEY_ID'] = getpass('Enter AWS_ACCESS_KEY_ID here:')\n",
    "os.environ['AWS_SECRET_ACCESS_KEY'] = getpass('Enter SECRET_ACCESS_KEY here:')\n",
    "os.environ['AWS_REGION_NAME'] = getpass('Enter AWS_REGION_NAME here:')\n",
    "\n",
    "session = boto3.session.Session(\n",
    "    aws_access_key_id=os.environ['AWS_ACCESS_KEY_ID'], \n",
    "    aws_secret_access_key=os.environ['AWS_SECRET_ACCESS_KEY'], \n",
    "    region_name=os.environ['AWS_REGION_NAME']\n",
    "    )\n",
    "\n",
    "print()\n",
    "print('Current Boto3 Session:')\n",
    "print(session)"
   ]
  },
  {
   "cell_type": "code",
   "execution_count": null,
   "metadata": {},
   "outputs": [],
   "source": [
    "#@title Inverse Kinematics Calculation\n",
    "trc_df = ik.read_trc(\"./001_baseball_pitching_right_handed.trc\")"
   ]
  },
  {
   "cell_type": "code",
   "execution_count": null,
   "metadata": {},
   "outputs": [],
   "source": [
    "response = ik.inverse_kinematics(\n",
    "    session, \n",
    "    dom_hand=None, \n",
    "    trc_df=trc_df, \n",
    "    results_file_name=\"000_test-id-1_ik.csv.gz\",   # we assume movement ID is between the \"_\" characters\n",
    "    movement_id=None, \n",
    "    movement_type=\"baseball-pitching\"\n",
    ")\n",
    "response"
   ]
  }
 ],
 "metadata": {
  "colab": {
   "provenance": []
  },
  "gpuClass": "standard",
  "kernelspec": {
   "display_name": "Python 3 (ipykernel)",
   "language": "python",
   "name": "python3"
  },
  "language_info": {
   "codemirror_mode": {
    "name": "ipython",
    "version": 3
   },
   "file_extension": ".py",
   "mimetype": "text/x-python",
   "name": "python",
   "nbconvert_exporter": "python",
   "pygments_lexer": "ipython3",
   "version": "3.10.9"
  }
 },
 "nbformat": 4,
 "nbformat_minor": 1
}
