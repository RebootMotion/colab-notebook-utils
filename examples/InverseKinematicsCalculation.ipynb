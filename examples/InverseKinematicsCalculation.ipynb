{
 "cells": [
  {
   "cell_type": "markdown",
   "metadata": {
    "id": "tSkr03E15m2w"
   },
   "source": [
    "# Demo Notebook for Calculating Inverse Kinematics\n",
    "\n",
    "Run the cells in order, making sure to enter AWS credentials in the cell when prompted\n"
   ]
  },
  {
   "cell_type": "code",
   "execution_count": null,
   "metadata": {},
   "outputs": [],
   "source": [
    "!pip install git+https://github.com/RebootMotion/colab-notebook-utils.git@v1.0.0#egg=colab_notebook_utils"
   ]
  },
  {
   "cell_type": "code",
   "execution_count": 1,
   "metadata": {},
   "outputs": [],
   "source": [
    "from getpass import getpass"
   ]
  },
  {
   "cell_type": "code",
   "execution_count": 2,
   "metadata": {
    "cellView": "form",
    "id": "2FxRcqDgEXce"
   },
   "outputs": [],
   "source": [
    "#@title Import Statements\n",
    "\n",
    "import numpy as np\n",
    "import os\n",
    "import pandas as pd\n",
    "\n",
    "from typing import Optional, Tuple, List, Dict, Any\n",
    "from enum import Enum\n",
    "from dataclasses import dataclass\n",
    "import boto3\n",
    "\n",
    "import colab_notebook_utils as utils"
   ]
  },
  {
   "cell_type": "code",
   "execution_count": null,
   "metadata": {},
   "outputs": [],
   "source": [
    "#@title AWS Credentials\n",
    "\n",
    "os.environ['AWS_ACCESS_KEY_ID'] = getpass('Enter AWS_ACCESS_KEY_ID here:')\n",
    "os.environ['AWS_SECRET_ACCESS_KEY'] = getpass('Enter SECRET_ACCESS_KEY here:')\n",
    "os.environ['AWS_REGION_NAME'] = getpass('Enter AWS_REGION_NAME here:')\n",
    "\n",
    "session = boto3.session.Session(\n",
    "    aws_access_key_id=os.environ['AWS_ACCESS_KEY_ID'], \n",
    "    aws_secret_access_key=os.environ['AWS_SECRET_ACCESS_KEY'], \n",
    "    region_name=os.environ['AWS_REGION_NAME']\n",
    "    )\n",
    "\n",
    "print()\n",
    "print('Current Boto3 Session:')\n",
    "print(session)"
   ]
  },
  {
   "cell_type": "code",
   "execution_count": 7,
   "metadata": {},
   "outputs": [],
   "source": [
    "#@title Inverse Kinematics Calculation\n",
    "trc_df = ik.read_trc(\"./001_baseball_pitching_right_handed.trc\")"
   ]
  },
  {
   "cell_type": "code",
   "execution_count": 33,
   "metadata": {},
   "outputs": [
    {
     "name": "stdout",
     "output_type": "stream",
     "text": [
      "Running inverse kinematics, this can take over 30s to run...\n"
     ]
    },
    {
     "name": "stderr",
     "output_type": "stream",
     "text": [
      "01:41:07 ERROR:b'{\"errorMessage\": \"movement_type not supported\", \"errorType\": \"ValueError\", \"requestId\": \"ccd2626c-9a8f-4ebb-8a99-f2e8e707bc3d\", \"stackTrace\": [\"  File \\\\\"/var/task/base.py\\\\\", line 48, in handler\\\\n    res = function_dict[function_name](obj, **args)\\\\n\", \"  File \\\\\"/var/task/ik.py\\\\\", line 52, in inverse_kinematics\\\\n    ik_df = run_inverse_kinematics(dom_hand, trc_df, results_file_name, movement_id, movement_type)\\\\n\", \"  File \\\\\"/var/task/reboot_inverse_kinematics.py\\\\\", line 381, in run_inverse_kinematics\\\\n    raise ValueError(\\'movement_type not supported\\')\\\\n\"]}'\n"
     ]
    },
    {
     "name": "stdout",
     "output_type": "stream",
     "text": [
      "Error in calculation\n",
      "b'{\"errorMessage\": \"movement_type not supported\", \"errorType\": \"ValueError\", \"requestId\": \"ccd2626c-9a8f-4ebb-8a99-f2e8e707bc3d\", \"stackTrace\": [\"  File \\\\\"/var/task/base.py\\\\\", line 48, in handler\\\\n    res = function_dict[function_name](obj, **args)\\\\n\", \"  File \\\\\"/var/task/ik.py\\\\\", line 52, in inverse_kinematics\\\\n    ik_df = run_inverse_kinematics(dom_hand, trc_df, results_file_name, movement_id, movement_type)\\\\n\", \"  File \\\\\"/var/task/reboot_inverse_kinematics.py\\\\\", line 381, in run_inverse_kinematics\\\\n    raise ValueError(\\'movement_type not supported\\')\\\\n\"]}'\n"
     ]
    },
    {
     "data": {
      "text/plain": [
       "b'{\"errorMessage\": \"movement_type not supported\", \"errorType\": \"ValueError\", \"requestId\": \"ccd2626c-9a8f-4ebb-8a99-f2e8e707bc3d\", \"stackTrace\": [\"  File \\\\\"/var/task/base.py\\\\\", line 48, in handler\\\\n    res = function_dict[function_name](obj, **args)\\\\n\", \"  File \\\\\"/var/task/ik.py\\\\\", line 52, in inverse_kinematics\\\\n    ik_df = run_inverse_kinematics(dom_hand, trc_df, results_file_name, movement_id, movement_type)\\\\n\", \"  File \\\\\"/var/task/reboot_inverse_kinematics.py\\\\\", line 381, in run_inverse_kinematics\\\\n    raise ValueError(\\'movement_type not supported\\')\\\\n\"]}'"
      ]
     },
     "execution_count": 33,
     "metadata": {},
     "output_type": "execute_result"
    }
   ],
   "source": [
    "response = ik.inverse_kinematics(\n",
    "    session, \n",
    "    dom_hand=None, \n",
    "    trc_df=trc_df, \n",
    "    results_file_name=\"000_test-id-1_ik.csv.gz\",   # we assume movement ID is between the \"_\" characters\n",
    "    movement_id=None, \n",
    "    movement_type=\"baseball-pitching\"\n",
    ")\n",
    "response"
   ]
  },
  {
   "cell_type": "code",
   "execution_count": null,
   "metadata": {},
   "outputs": [],
   "source": []
  },
  {
   "cell_type": "code",
   "execution_count": null,
   "metadata": {},
   "outputs": [],
   "source": []
  },
  {
   "cell_type": "code",
   "execution_count": null,
   "metadata": {},
   "outputs": [],
   "source": []
  },
  {
   "cell_type": "code",
   "execution_count": null,
   "metadata": {},
   "outputs": [],
   "source": []
  },
  {
   "cell_type": "code",
   "execution_count": null,
   "metadata": {},
   "outputs": [],
   "source": []
  },
  {
   "cell_type": "code",
   "execution_count": null,
   "metadata": {},
   "outputs": [],
   "source": []
  },
  {
   "cell_type": "code",
   "execution_count": null,
   "metadata": {},
   "outputs": [],
   "source": []
  },
  {
   "cell_type": "code",
   "execution_count": null,
   "metadata": {},
   "outputs": [],
   "source": []
  },
  {
   "cell_type": "code",
   "execution_count": null,
   "metadata": {},
   "outputs": [],
   "source": []
  },
  {
   "cell_type": "code",
   "execution_count": null,
   "metadata": {},
   "outputs": [],
   "source": []
  },
  {
   "cell_type": "code",
   "execution_count": null,
   "metadata": {},
   "outputs": [],
   "source": []
  },
  {
   "cell_type": "code",
   "execution_count": null,
   "metadata": {},
   "outputs": [],
   "source": []
  }
 ],
 "metadata": {
  "colab": {
   "provenance": []
  },
  "gpuClass": "standard",
  "kernelspec": {
   "display_name": "Python 3 (ipykernel)",
   "language": "python",
   "name": "python3"
  },
  "language_info": {
   "codemirror_mode": {
    "name": "ipython",
    "version": 3
   },
   "file_extension": ".py",
   "mimetype": "text/x-python",
   "name": "python",
   "nbconvert_exporter": "python",
   "pygments_lexer": "ipython3",
   "version": "3.10.9"
  }
 },
 "nbformat": 4,
 "nbformat_minor": 1
}
