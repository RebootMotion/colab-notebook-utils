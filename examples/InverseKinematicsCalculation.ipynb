{
 "cells": [
  {
   "cell_type": "markdown",
   "metadata": {
    "id": "tSkr03E15m2w"
   },
   "source": [
    "# Demo Notebook for Calculating Inverse Kinematics\n",
    "\n",
    "__[CoLab Notebook Link](https://githubtocolab.com/RebootMotion/reboot-toolkit/blob/main/examples/InverseKinematicsCalculation.ipynb)__\n",
    "\n",
    "Run the cells in order, making sure to enter AWS credentials in the cell when prompted"
   ]
  },
  {
   "cell_type": "code",
   "execution_count": null,
   "metadata": {},
   "outputs": [],
   "source": [
    "#@title Install Python Packages\n",
    "\n",
    "!pip install git+https://github.com/RebootMotion/reboot-toolkit.git@v2.5.0#egg=reboot_toolkit > /dev/null\n",
    "!wget https://raw.githubusercontent.com/RebootMotion/reboot-toolkit/main/examples/001_baseball_pitching_right_handed.trc\n",
    "!echo \"Done Installing\""
   ]
  },
  {
   "cell_type": "code",
   "execution_count": null,
   "metadata": {
    "cellView": "form",
    "id": "2FxRcqDgEXce"
   },
   "outputs": [],
   "source": [
    "#@title Import Statements\n",
    "\n",
    "import reboot_toolkit as rtk\n",
    "from reboot_toolkit import MovementType, setup_aws"
   ]
  },
  {
   "cell_type": "code",
   "execution_count": null,
   "metadata": {},
   "outputs": [],
   "source": [
    "#@title AWS Credentials\n",
    "\n",
    "# Upload your Organization's .env file to the local file system, per https://pypi.org/project/python-dotenv/\n",
    "# Also, update the org_id in the field below to your own org_id\n",
    "\n",
    "boto3_session = setup_aws(org_id=\"org-mlbbiomech\", aws_default_region=\"us-west-1\")"
   ]
  },
  {
   "cell_type": "code",
   "execution_count": null,
   "metadata": {},
   "outputs": [],
   "source": [
    "#@title Inverse Kinematics Calculation\n",
    "trc_df = rtk.read_trc(\"./001_baseball_pitching_right_handed.trc\")"
   ]
  },
  {
   "cell_type": "code",
   "execution_count": null,
   "metadata": {},
   "outputs": [],
   "source": [
    "response = rtk.inverse_kinematics(\n",
    "    boto3_session, \n",
    "    dom_hand=None, \n",
    "    trc_df=trc_df, \n",
    "    results_file_name=\"000_test-id-1_ik.csv.gz\",   # we assume movement ID is between the \"_\" characters\n",
    "    movement_id=None, \n",
    "    movement_type=MovementType.BASEBALL_PITCHING,\n",
    ")\n",
    "response"
   ]
  },
  {
   "cell_type": "code",
   "execution_count": null,
   "metadata": {},
   "outputs": [],
   "source": []
  }
 ],
 "metadata": {
  "colab": {
   "provenance": []
  },
  "gpuClass": "standard",
  "kernelspec": {
   "display_name": "Python 3 (ipykernel)",
   "language": "python",
   "name": "python3"
  },
  "language_info": {
   "codemirror_mode": {
    "name": "ipython",
    "version": 3
   },
   "file_extension": ".py",
   "mimetype": "text/x-python",
   "name": "python",
   "nbconvert_exporter": "python",
   "pygments_lexer": "ipython3",
   "version": "3.9.17"
  }
 },
 "nbformat": 4,
 "nbformat_minor": 1
}
