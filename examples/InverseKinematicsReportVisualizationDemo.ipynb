{
  "cells": [
    {
      "attachments": {},
      "cell_type": "markdown",
      "metadata": {
        "id": "tSkr03E15m2w"
      },
      "source": [
        "# Demo Notebook for Creating an Inverse Kinematics Report\n",
        "\n",
        "Run the cells in order, making sure to enter AWS credentials in the cell when prompted\n"
      ]
    },
    {
      "cell_type": "code",
      "execution_count": null,
      "metadata": {
        "cellView": "form",
        "id": "CtfKvfQHlHdx"
      },
      "outputs": [],
      "source": [
        "#@title Install Python Packages\n",
        "!pip install -q awswrangler > /dev/null\n",
        "!pip install -q plotly > /dev/null\n",
        "!pip install git+https://github.com/RebootMotion/reboot-toolkit.git@v2.1.0#egg=reboot_toolkit > /dev/null\n",
        "!echo \"Done Installing\""
      ]
    },
    {
      "cell_type": "code",
      "execution_count": null,
      "metadata": {
        "cellView": "form",
        "id": "2FxRcqDgEXce"
      },
      "outputs": [],
      "source": [
        "#@title Import Statements\n",
        "\n",
        "import awswrangler as wr\n",
        "import numpy as np\n",
        "import os\n",
        "\n",
        "from getpass import getpass\n",
        "from plotly.subplots import make_subplots\n",
        "from typing import Optional, Dict\n",
        "from dataclasses import dataclass\n",
        "\n",
        "import reboot_toolkit as rtk\n",
        "from reboot_toolkit import MovementType, Handedness, MocapType, FileType, setup_aws, S3Metadata"
      ]
    },
    {
      "cell_type": "code",
      "execution_count": null,
      "metadata": {
        "cellView": "form",
        "id": "IGSVVhSKWZKY"
      },
      "outputs": [],
      "source": [
        "#@title AWS Credentials\n",
        "\n",
        "boto3_session = setup_aws(org_id=\"org-mlbbiomech\", aws_default_region=\"us-west-1\")"
      ]
    },
    {
      "cell_type": "code",
      "execution_count": null,
      "metadata": {
        "cellView": "form",
        "id": "2Cfc2nNgeTxq"
      },
      "outputs": [],
      "source": [
        "#@title S3 DataFrame Functions\n",
        "    \n",
        "@dataclass\n",
        "class PlayerMetadata:\n",
        "    session_date: str\n",
        "    game_pk: str\n",
        "    player_id: str\n",
        "    play_guid: Optional[str] = None\n",
        "    s3_metadata: Optional[S3Metadata] = None\n",
        "        \n",
        "    @property\n",
        "    def s3_prefix(self) -> str:\n",
        "        assert self.s3_metadata, \"Must set s3 metadata before generating s3 prefix\"\n",
        "        return f's3://{self.s3_metadata.bucket}/data_delivery/{self.s3_metadata.mocap_type}/{self.session_date}/{self.game_pk}/{self.s3_metadata.movement_type}/{self.player_id}/{self.s3_metadata.file_type}/'\n",
        "\n",
        "\n",
        "def get_analysis_dict(player_metadata: PlayerMetadata) -> Dict:\n",
        "    \"\"\"Construct dict of metadata for generating an analysis.\"\"\"\n",
        "    player_dict = {\n",
        "        'session_date': player_metadata.session_date,\n",
        "        'game_pk': player_metadata.game_pk,\n",
        "        'player_id': player_metadata.player_id,\n",
        "        'play_guid': player_metadata.play_guid,\n",
        "        'eye_hand_multiplier': player_metadata.s3_metadata.handedness.eye_hand_multiplier,\n",
        "    }\n",
        "\n",
        "    player_dict['s3_prefix'] = player_metadata.s3_prefix\n",
        "  \n",
        "    return player_dict\n",
        "\n",
        "\n",
        "def load_data_into_analysis_dict(analysis_dict: Dict) -> None:\n",
        "    print('Loading player', analysis_dict['player_id'], 'from:', analysis_dict['s3_prefix'])\n",
        "    print('Downloading data...')\n",
        "    df = wr.s3.read_csv(analysis_dict['s3_prefix'], index_col=[0])\n",
        "\n",
        "    print('Aggregating mean data...')    \n",
        "    df['rel_frame'] = df['time_from_max_hand'].copy()\n",
        "    df['rel_frame'] = df.groupby('org_movement_id')['rel_frame'].transform(rtk.get_relative_frame)\n",
        "    analysis_dict['df_mean'] = df.groupby('rel_frame').agg('mean', numeric_only=True).reset_index()\n",
        "    \n",
        "    if analysis_dict['play_guid'] is None:\n",
        "        play_guid = list(df['org_movement_id'].unique())[0]\n",
        "        analysis_dict['play_guid'] = play_guid\n",
        "    else:\n",
        "        play_guid = analysis_dict['play_guid']\n",
        "    analysis_dict['df'] = df.loc[df['org_movement_id'] == play_guid]"
      ]
    },
    {
      "cell_type": "code",
      "execution_count": null,
      "metadata": {
        "id": "4BSXOz8Nd4_e"
      },
      "outputs": [],
      "source": [
        "#@title Set Constant S3 File Info\n",
        "\n",
        "s3_metadata = S3Metadata(\n",
        "    org_id=os.environ['ORG_ID'],\n",
        "    mocap_types=[MocapType.HAWKEYE_HFR],\n",
        "    file_type=FileType.INVERSE_KINEMATICS,\n",
        "    movement_type=MovementType.BASEBALL_PITCHING,\n",
        "    handedness=Handedness.RIGHT,\n",
        ")"
      ]
    },
    {
      "cell_type": "code",
      "execution_count": null,
      "metadata": {
        "id": "2MTilDT6-_AU"
      },
      "outputs": [],
      "source": [
        "#@title Set Primary Analysis Segment Info\n",
        "\n",
        "player_1 = PlayerMetadata(\n",
        "    session_date='20221002',\n",
        "    game_pk='662825',\n",
        "    # demo '444482' for baseball-hitting, '446372' for baseball-pitching\n",
        "    player_id='446372',\n",
        "    # set play GUID for the skeleton animation; None defaults to the first play\n",
        "    play_guid=None, \n",
        "    s3_metadata=s3_metadata,\n",
        ")\n",
        "\n",
        "analysis_dicts = [get_analysis_dict(player_1)]"
      ]
    },
    {
      "cell_type": "code",
      "execution_count": null,
      "metadata": {
        "id": "W7wg7Veq4Fq7"
      },
      "outputs": [],
      "source": [
        "analysis_dicts[0]"
      ]
    },
    {
      "cell_type": "code",
      "execution_count": null,
      "metadata": {
        "id": "cIFBZ18PmiOp"
      },
      "outputs": [],
      "source": [
        "#@title [Optional] Uncomment Below and Set Comparison Analysis Segment Info\n",
        "\n",
        "# # NOTE: if you uncomment below, make sure to rerun the cell below to download and aggregate from S3\n",
        "\n",
        "# player_2 = PlayerMetadata(\n",
        "#     session_date='20221002',\n",
        "#     game_pk='662825',\n",
        "#     player_id='592773',\n",
        "#     # set the play GUID for the skeleton animation; None defaults to the first play\n",
        "#     play_guid=None, \n",
        "#     s3_metadata=s3_metadata,\n",
        "# )\n",
        "\n",
        "# analysis_dicts.append(get_analysis_dict(player_2))\n",
        "\n",
        "# if len(analysis_dicts) > 2:\n",
        "#     raise ValueError('Currently only 2 analysis dicts are supported - re-run the Primary Segment cell to reset the analysis_dicts')\n",
        "\n",
        "# print('Now run the cell below to download and aggregate from S3')"
      ]
    },
    {
      "cell_type": "code",
      "execution_count": null,
      "metadata": {
        "id": "BkcLX8DH8VO0"
      },
      "outputs": [],
      "source": [
        "#@title Download and aggregate from S3\n",
        "\n",
        "for analysis_dict in analysis_dicts:\n",
        "    load_data_into_analysis_dict(analysis_dict)"
      ]
    },
    {
      "cell_type": "code",
      "execution_count": null,
      "metadata": {
        "id": "tN8xEHVtIwLE"
      },
      "outputs": [],
      "source": [
        "#@title Get Population Inverse Kinematics Data from S3\n",
        "\n",
        "print(s3_metadata.s3_population_prefix)\n",
        "\n",
        "print('Downloading population mean...')\n",
        "pop_mean_df = wr.s3.read_csv([f\"{s3_metadata.s3_population_prefix}mean_ik.csv\"], index_col=[0])\n",
        "\n",
        "print('Downloading population standard deviation...')\n",
        "pop_std_df = wr.s3.read_csv([f\"{s3_metadata.s3_population_prefix}std_ik.csv\"], index_col=[0])"
      ]
    },
    {
      "cell_type": "code",
      "execution_count": null,
      "metadata": {
        "cellView": "form",
        "id": "qjra7LRfl8ni"
      },
      "outputs": [],
      "source": [
        "#@title Inspect Available Joint Angle Names\n",
        "\n",
        "joint_angle_names = rtk.get_available_joint_angles(analysis_dicts)\n",
        "print(f\"Available Joint Angles:\\nn={len(joint_angle_names)}\\n{joint_angle_names}\")"
      ]
    },
    {
      "cell_type": "code",
      "execution_count": null,
      "metadata": {
        "id": "fVpHElJ84Fq-"
      },
      "outputs": [],
      "source": [
        "#@title Show Animation\n",
        "\n",
        "time_column_to_plot = 'time_from_max_hand'  # seconds from max dom hand velo\n",
        "\n",
        "# joint_angles_to_plot = ['right_elbow', 'left_knee']  # list of joint angles to plot below, from available angles above\n",
        "joint_angles_to_plot = ['right_elbow']  # list of joint angles to plot below, from available angles above\n",
        "\n",
        "# set to True to plot the mean joint angle trace across the selection,\n",
        "# set to False to plot the joint angle trace for the play specified by the play_guid in the analysis_dict from that cell above\n",
        "plot_joint_angle_mean = False\n",
        "\n",
        "# set to True to write an html file for each joint angle skeleton animation\n",
        "write_individual_html = False"
      ]
    },
    {
      "cell_type": "code",
      "execution_count": null,
      "metadata": {
        "id": "qLA-7XUDRhZr",
        "scrolled": false
      },
      "outputs": [],
      "source": [
        "frame_step = 25  # step size between animation frames \n",
        "figs = []\n",
        "\n",
        "for joint_angle_to_plot in joint_angles_to_plot:\n",
        "    fig = rtk.get_animation(boto3_session, analysis_dicts, pop_mean_df, pop_std_df, time_column_to_plot, joint_angle_to_plot, plot_joint_angle_mean, frame_step=frame_step)\n",
        "  \n",
        "    if write_individual_html:\n",
        "        fig.write_html(f'{joint_angle_to_plot}_animation.html', full_html=True, include_plotlyjs='cdn')\n",
        "\n",
        "    figs.append(fig)\n",
        "\n",
        "    fig.show()"
      ]
    },
    {
      "cell_type": "code",
      "execution_count": null,
      "metadata": {
        "cellView": "form",
        "id": "80zMOFsNBZbK",
        "scrolled": true
      },
      "outputs": [],
      "source": [
        "#@title Create Joint Angle HTML Plots\n",
        "\n",
        "joint_angle_names_no_zeros = [\n",
        "    angle for angle in joint_angle_names \n",
        "    if not np.allclose(pop_mean_df[angle].values, np.zeros(len(pop_mean_df)))\n",
        "    ]\n",
        "\n",
        "joint_angle_lists = rtk.list_chunks(joint_angle_names_no_zeros, 3)\n",
        "\n",
        "plot_colors = ['rgb(31, 119, 180)', 'rgb(255, 127, 14)',\n",
        "               'rgb(44, 160, 44)', 'rgb(214, 39, 40)',\n",
        "               'rgb(148, 103, 189)']\n",
        "\n",
        "time_label = 'time_from_max_hand'\n",
        "figs_angles = []\n",
        "\n",
        "for joint_angle_list in joint_angle_lists:\n",
        "\n",
        "    fig = rtk.get_joint_plot(boto3_session, analysis_dicts, pop_mean_df, pop_std_df, time_label, joint_angle_list)\n",
        "    fig.show()\n",
        "    figs_angles.append(fig)"
      ]
    },
    {
      "cell_type": "code",
      "execution_count": null,
      "metadata": {
        "id": "rb2TmzIE3fMX"
      },
      "outputs": [],
      "source": [
        "#@title Write Report HTML to Local Folder\n",
        "rtk.save_figs_to_html(figs+figs_angles)"
      ]
    },
    {
      "cell_type": "code",
      "execution_count": null,
      "metadata": {},
      "outputs": [],
      "source": []
    }
  ],
  "metadata": {
    "colab": {
      "provenance": []
    },
    "gpuClass": "standard",
    "kernelspec": {
      "display_name": "Python 3 (ipykernel)",
      "language": "python",
      "name": "python3"
    },
    "language_info": {
      "codemirror_mode": {
        "name": "ipython",
        "version": 3
      },
      "file_extension": ".py",
      "mimetype": "text/x-python",
      "name": "python",
      "nbconvert_exporter": "python",
      "pygments_lexer": "ipython3",
      "version": "3.10.9"
    }
  },
  "nbformat": 4,
  "nbformat_minor": 0
}
