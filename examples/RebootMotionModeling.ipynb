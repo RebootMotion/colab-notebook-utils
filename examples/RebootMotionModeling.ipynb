{
 "cells": [
  {
   "cell_type": "code",
   "execution_count": 1,
   "metadata": {
    "collapsed": true
   },
   "outputs": [],
   "source": [
    "import os\n",
    "import pandas as pd"
   ]
  },
  {
   "cell_type": "code",
   "execution_count": 2,
   "outputs": [],
   "source": [
    "base_path = \"/Users/jimmybuffi/Desktop/RebootMotion/sis-api/downloads/\""
   ],
   "metadata": {
    "collapsed": false
   }
  },
  {
   "cell_type": "code",
   "execution_count": 3,
   "outputs": [],
   "source": [
    "def get_files_in_folder(folder_name):\n",
    "    folder_path = os.path.join(base_path, folder_name)\n",
    "    return [\n",
    "        os.path.join(folder_path, csv_file)\n",
    "        for csv_file in os.listdir(folder_path) if csv_file.endswith(\".csv\")\n",
    "    ]"
   ],
   "metadata": {
    "collapsed": false
   }
  },
  {
   "cell_type": "code",
   "execution_count": 4,
   "outputs": [],
   "source": [
    "def aggregate_stats_csvs(input_paths, output_label):\n",
    "    dfs_mean = []\n",
    "    dfs_std = []\n",
    "    dfs_median = []\n",
    "\n",
    "    for i, csv_path in enumerate(input_paths):\n",
    "\n",
    "        print(i + 1, 'out of', len(input_paths))\n",
    "\n",
    "        input_df = pd.read_csv(csv_path, index_col=[0])\n",
    "\n",
    "        if len(input_df) > 0:\n",
    "            df = input_df.loc[input_df['mocap_type_id'] == 2]\n",
    "\n",
    "            if len(df) > 0:\n",
    "                grouped = df.groupby(by=['mlbam_id', 'session_date', 'session_num'])\n",
    "\n",
    "                dfs_mean.append(grouped.mean(numeric_only=True).reset_index())\n",
    "\n",
    "                dfs_std.append(grouped.std(numeric_only=True).reset_index())\n",
    "\n",
    "                dfs_median.append(grouped.median(numeric_only=True).reset_index())\n",
    "\n",
    "    pd.concat(dfs_mean, ignore_index=True).to_csv(os.path.join(base_path, f\"{output_label}_mean.csv\"))\n",
    "\n",
    "    pd.concat(dfs_std, ignore_index=True).to_csv(os.path.join(base_path, f\"{output_label}_std.csv\"))\n",
    "\n",
    "    pd.concat(dfs_median, ignore_index=True).to_csv(os.path.join(base_path, f\"{output_label}_median.csv\"))"
   ],
   "metadata": {
    "collapsed": false
   }
  },
  {
   "cell_type": "code",
   "execution_count": null,
   "outputs": [],
   "source": [
    "aggregate_stats_csvs(get_files_in_folder('metrics'), 'injuries')"
   ],
   "metadata": {
    "collapsed": false,
    "pycharm": {
     "is_executing": true
    }
   }
  },
  {
   "cell_type": "code",
   "execution_count": null,
   "outputs": [],
   "source": [
    "aggregate_stats_csvs(get_files_in_folder('metrics_no_injuries'), 'no_injuries')"
   ],
   "metadata": {
    "collapsed": false,
    "pycharm": {
     "is_executing": true
    }
   }
  },
  {
   "cell_type": "code",
   "execution_count": null,
   "outputs": [],
   "source": [],
   "metadata": {
    "collapsed": false
   }
  }
 ],
 "metadata": {
  "kernelspec": {
   "display_name": "Python 3",
   "language": "python",
   "name": "python3"
  },
  "language_info": {
   "codemirror_mode": {
    "name": "ipython",
    "version": 2
   },
   "file_extension": ".py",
   "mimetype": "text/x-python",
   "name": "python",
   "nbconvert_exporter": "python",
   "pygments_lexer": "ipython2",
   "version": "2.7.6"
  }
 },
 "nbformat": 4,
 "nbformat_minor": 0
}
