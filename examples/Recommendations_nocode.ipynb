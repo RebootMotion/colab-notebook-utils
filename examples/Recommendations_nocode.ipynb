{
 "cells": [
  {
   "cell_type": "markdown",
   "metadata": {},
   "source": [
    "# Demo Notebook for using the Reboot Recommendation Engine"
   ]
  },
  {
   "cell_type": "code",
   "execution_count": null,
   "metadata": {},
   "outputs": [],
   "source": [
    "#@title Install Python Packages\n",
    "\n",
    "# !pip install git+https://github.com/RebootMotion/reboot-toolkit.git@v2.4.1#egg=reboot_toolkit > /dev/null\n",
    "# !pip install git+https://github.com/RebootMotion/mlb-statsapi.git@v1.1.0#egg=mlb_statsapi > /dev/null\n",
    "# !echo \"Done Installing\""
   ]
  },
  {
   "cell_type": "code",
   "execution_count": null,
   "metadata": {},
   "outputs": [],
   "source": [
    "%cd .."
   ]
  },
  {
   "cell_type": "code",
   "execution_count": 4,
   "metadata": {},
   "outputs": [],
   "source": [
    "#@title Import Statements\n",
    "\n",
    "import reboot_toolkit as rtk\n",
    "from reboot_toolkit import MovementType, setup_aws, MovementType, MocapType, Handedness, FileType, S3Metadata, PlayerMetadata\n",
    "import os\n",
    "import pandas as pd\n",
    "import ipywidgets as widgets"
   ]
  },
  {
   "cell_type": "code",
   "execution_count": 2,
   "metadata": {},
   "outputs": [
    {
     "data": {
      "text/html": [
       "<style>.container { width:100% !important; }</style>"
      ],
      "text/plain": [
       "<IPython.core.display.HTML object>"
      ]
     },
     "metadata": {},
     "output_type": "display_data"
    }
   ],
   "source": [
    "from IPython.display import display, HTML\n",
    "display(HTML(\"<style>.container { width:100% !important; }</style>\"))\n",
    "display(HTML(\"<style>div.output_scroll { height: 999999em; }</style>\"))"
   ]
  },
  {
   "cell_type": "code",
   "execution_count": 3,
   "metadata": {},
   "outputs": [
    {
     "name": "stdout",
     "output_type": "stream",
     "text": [
      "Input org_id here (or input empty string to use org-mlbbiomech):········\n"
     ]
    }
   ],
   "source": [
    "password_out = widgets.Output(layout={'border': '1px solid black'})\n",
    "with password_out:\n",
    "    boto3_session = setup_aws(org_id=\"org-mlbbiomech\", aws_default_region=\"us-west-1\")\n",
    "    \n",
    "display(password_out)"
   ]
  },
  {
   "cell_type": "code",
   "execution_count": null,
   "metadata": {
    "scrolled": true
   },
   "outputs": [],
   "source": [
    "w1 = widgets.Dropdown(options=[e.value for e in MocapType], value=MocapType.HAWKEYE_HFR.value, description=\"MocapType: \")\n",
    "w2 = widgets.Dropdown(options=[e.value for e in MovementType], value=MovementType.BASEBALL_PITCHING.value, description=\"MovementType: \")\n",
    "w3 = widgets.Dropdown(options=[e.value for e in Handedness], value=Handedness.LEFT.value, description=\"Handedness: \")\n",
    "w4 = widgets.Dropdown(options=[e.value for e in FileType], value=FileType.METRICS_BASEBALL_PITCHING_V2.value, description=\"FileType: \")\n",
    "\n",
    "file_button = widgets.Button(\n",
    "    description='Submit',\n",
    "    disabled=False,\n",
    "    button_style='success', # 'success', 'info', 'warning', 'danger' or ''\n",
    "    tooltip='Submit',\n",
    "    icon='check' # (FontAwesome names without the `fa-` prefix)\n",
    ")\n",
    "file_loading_out = widgets.Output()\n",
    "file_in = widgets.VBox([w1, w2, w3, w4, widgets.HBox([file_button, file_loading_out])])\n",
    "file_out = widgets.Output(layout={'border': '1px solid black', 'max_height': '350px', 'overflow': 'scroll'})\n",
    "\n",
    "data_section = widgets.Output()\n",
    "analysis_section = widgets.Output()\n",
    "\n",
    "def file_f(_):\n",
    "    with file_loading_out:\n",
    "        print(\"Loading...\")\n",
    "    mocap_type = MocapType(w1.value)\n",
    "    movement_type = MovementType(w2.value)\n",
    "    handedness = Handedness(w3.value)\n",
    "\n",
    "    s3_metadata = S3Metadata(\n",
    "        org_id=os.environ['ORG_ID'],\n",
    "        mocap_types=[mocap_type],\n",
    "        movement_type=movement_type,\n",
    "        handedness=handedness,\n",
    "        file_type=FileType(w4.value),\n",
    "    )\n",
    "\n",
    "    with file_out:\n",
    "        file_out.clear_output()\n",
    "        s3_df = rtk.download_s3_summary_df(s3_metadata)\n",
    "    file_loading_out.clear_output()\n",
    "\n",
    "    # Set up next section\n",
    "    primary_segment_widget = rtk.create_interactive_widget(s3_df)\n",
    "    data_button = widgets.Button(\n",
    "        description='Submit',\n",
    "        disabled=False,\n",
    "        button_style='success', # 'success', 'info', 'warning', 'danger' or ''\n",
    "        tooltip='Submit',\n",
    "        icon='check' # (FontAwesome names without the `fa-` prefix)\n",
    "    )\n",
    "    data_in = widgets.VBox([primary_segment_widget, data_button])\n",
    "    data_out = widgets.Output(layout={'border': '1px solid black'})\n",
    "\n",
    "    def data_f(_):\n",
    "        with data_out:\n",
    "            data_out.clear_output()\n",
    "            print(primary_segment_widget.result)\n",
    "\n",
    "        analysis_button = widgets.widgets.Button(\n",
    "            description='Run Analysis',\n",
    "            disabled=False,\n",
    "            button_style='success', # 'success', 'info', 'warning', 'danger' or ''\n",
    "            tooltip='Sun Analysis',\n",
    "            icon='check' # (FontAwesome names without the `fa-` prefix)\n",
    "        )\n",
    "        analysis_loading_out = widgets.Output()\n",
    "        analysis_out = widgets.Output(layout={'max_height': '350px', 'overflow': 'scroll'})\n",
    "        analysis_result = widgets.Output()\n",
    "        def analysis_f(_):\n",
    "            with analysis_loading_out:\n",
    "                print(\"Loading...\")\n",
    "            with analysis_out:\n",
    "                analysis_out.clear_output()\n",
    "                primary_segment_label = 'Primary Segment'\n",
    "\n",
    "                assert primary_segment_widget.result is not None\n",
    "                primary_analysis_segment = PlayerMetadata(\n",
    "                    org_player_ids=primary_segment_widget.result[\"org_player_ids\"],\n",
    "                    session_dates=primary_segment_widget.result[\"session_dates\"],\n",
    "                    session_nums=primary_segment_widget.result[\"session_nums\"],\n",
    "                    session_date_start=primary_segment_widget.result[\"session_date_start\"],\n",
    "                    session_date_end=primary_segment_widget.result[\"session_date_end\"],\n",
    "                    year=primary_segment_widget.result[\"year\"],\n",
    "                    org_movement_id=None, # set the play GUID for the skeleton animation; None defaults to the first play\n",
    "                    s3_metadata=s3_metadata,\n",
    "                )\n",
    "\n",
    "                primary_segment_summary_df = rtk.filter_s3_summary_df(primary_analysis_segment, s3_df)\n",
    "                prim_available_s3_keys = rtk.list_available_s3_keys(os.environ['ORG_ID'], primary_segment_summary_df)\n",
    "                primary_segment_data_df = rtk.load_games_to_df_from_s3_paths(primary_segment_summary_df['s3_path_delivery'].tolist())\n",
    "                primary_segment_data_df = rtk.merge_data_df_with_s3_keys(primary_segment_data_df, prim_available_s3_keys).sort_values(by=['session_date', 'movement_num'])\n",
    "                df = rtk.recommendation(boto3_session, primary_segment_data_df, movement_type, mocap_type, handedness)\n",
    "\n",
    "            with analysis_result:\n",
    "                analysis_result.clear_output()\n",
    "                fig = rtk.recommendation_violin_plot(boto3_session, primary_segment_data_df, movement_type, mocap_type, handedness, num_features=5)\n",
    "                fig.show()\n",
    "            analysis_loading_out.clear_output()\n",
    "        analysis_button.on_click(analysis_f)\n",
    "\n",
    "        with analysis_section:\n",
    "            display(widgets.HBox([analysis_button, analysis_loading_out]), analysis_out, analysis_result)\n",
    "\n",
    "    data_button.on_click(data_f)\n",
    "    with data_section:\n",
    "        data_section.clear_output()\n",
    "        display(data_in, data_out)\n",
    "\n",
    "file_button.on_click(file_f)\n",
    "\n",
    "display(file_in, file_out, data_section, analysis_section)"
   ]
  },
  {
   "cell_type": "code",
   "execution_count": null,
   "metadata": {},
   "outputs": [],
   "source": []
  },
  {
   "cell_type": "code",
   "execution_count": null,
   "metadata": {},
   "outputs": [],
   "source": []
  }
 ],
 "metadata": {
  "kernelspec": {
   "display_name": "Python 3 (ipykernel)",
   "language": "python",
   "name": "python3"
  },
  "language_info": {
   "codemirror_mode": {
    "name": "ipython",
    "version": 3
   },
   "file_extension": ".py",
   "mimetype": "text/x-python",
   "name": "python",
   "nbconvert_exporter": "python",
   "pygments_lexer": "ipython3",
   "version": "3.10.9"
  }
 },
 "nbformat": 4,
 "nbformat_minor": 2
}
