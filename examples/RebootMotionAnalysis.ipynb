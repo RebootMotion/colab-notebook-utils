{
 "cells": [
  {
   "cell_type": "markdown",
   "metadata": {
    "id": "tSkr03E15m2w"
   },
   "source": [
    "# Demo Notebook for Creating a Reboot Motion Inverse Kinematics Report\n",
    "\n",
    "Run the cells in order, making sure to enter AWS credentials in the cell when prompted\n"
   ]
  },
  {
   "cell_type": "code",
   "execution_count": null,
   "metadata": {
    "id": "CtfKvfQHlHdx",
    "cellView": "form",
    "colab": {
     "base_uri": "https://localhost:8080/"
    },
    "outputId": "c7ae1dab-ae22-4f86-dfce-9e7524ec2567"
   },
   "outputs": [],
   "source": [
    "#@title Install Python Package\n",
    "\n",
    "!pip install -q git+https://github.com/RebootMotion/colab-notebook-utils.git@v1.0.0#egg=colab_notebook_utils"
   ]
  },
  {
   "cell_type": "code",
   "execution_count": null,
   "metadata": {
    "id": "2FxRcqDgEXce",
    "cellView": "form"
   },
   "outputs": [],
   "source": [
    "import awswrangler as wr\n",
    "import boto3\n",
    "import colab_notebook_utils as utils\n",
    "import matplotlib.pyplot as plt\n",
    "import os\n",
    "\n",
    "from colab_notebook_utils import S3Metadata, MocapType, MovementType, Handedness, FileType, PlayerMetadata"
   ]
  },
  {
   "cell_type": "code",
   "execution_count": null,
   "metadata": {
    "id": "IGSVVhSKWZKY",
    "colab": {
     "base_uri": "https://localhost:8080/"
    },
    "executionInfo": {
     "status": "ok",
     "timestamp": 1682088623455,
     "user_tz": 420,
     "elapsed": 243357,
     "user": {
      "displayName": "Jimmy Buffi",
      "userId": "02111946216068691065"
     }
    },
    "outputId": "cbc1838b-c5c2-4e6a-ee3b-5e712a550440"
   },
   "outputs": [],
   "source": [
    "#@title Org and AWS Credentials\n",
    "\n",
    "from dotenv import load_dotenv\n",
    "\n",
    "load_dotenv()\n",
    "\n",
    "if 'AWS_ACCESS_KEY_ID' not in os.environ:\n",
    "    from getpass import getpass\n",
    "\n",
    "    os.environ['ORG_ID'] = getpass('Enter reboot-motion org_id here:')\n",
    "    os.environ['AWS_ACCESS_KEY_ID'] = getpass('Enter AWS_ACCESS_KEY_ID here:')\n",
    "    os.environ['AWS_SECRET_ACCESS_KEY'] = getpass('Enter SECRET_ACCESS_KEY here:')\n",
    "    os.environ['AWS_DEFAULT_REGION'] = getpass('Enter AWS_DEFAULT_REGION here:')\n",
    "\n",
    "boto3_session = boto3.session.Session(\n",
    "    aws_access_key_id=os.environ['AWS_ACCESS_KEY_ID'],\n",
    "    aws_secret_access_key=os.environ['AWS_SECRET_ACCESS_KEY'],\n",
    "    region_name=os.environ['AWS_DEFAULT_REGION']\n",
    "    )\n",
    "\n",
    "print('Current Boto3 Session:')\n",
    "print(boto3_session)"
   ]
  },
  {
   "cell_type": "code",
   "execution_count": null,
   "outputs": [],
   "source": [
    "#@title Set S3 File Info\n",
    "\n",
    "s3_metadata = S3Metadata(\n",
    "    org_id=os.environ['ORG_ID'],\n",
    "    mocap_type=MocapType.HAWKEYE_HFR,\n",
    "    movement_type=MovementType.BASEBALL_PITCHING,\n",
    "    handedness=Handedness.LEFT,\n",
    "    file_type=FileType.INVERSE_KINEMATICS\n",
    ")\n",
    "\n",
    "s3_df = utils.download_s3_summary_df(s3_metadata)"
   ],
   "metadata": {
    "collapsed": false
   }
  },
  {
   "cell_type": "code",
   "execution_count": null,
   "outputs": [],
   "source": [
    "#@title Set Primary Analysis Segment Info\n",
    "\n",
    "primary_segment_label = '2023-04-13'\n",
    "\n",
    "primary_analysis_segment = PlayerMetadata(\n",
    "    mlbam_player_ids=['605488'],\n",
    "    session_dates=None,\n",
    "    game_pks=None, # None defaults to all\n",
    "    session_date_start = '2023-04-13',\n",
    "    session_date_end = None,\n",
    "    year = None,\n",
    "    mlb_play_guid=None, # set the mlb play GUID for the skeleton animation; None defaults to the first play\n",
    "    s3_metadata=s3_metadata,\n",
    ")\n",
    "\n",
    "primary_segment_summary_df = utils.filter_s3_summary_df(primary_analysis_segment, s3_df)"
   ],
   "metadata": {
    "collapsed": false
   }
  },
  {
   "cell_type": "code",
   "source": [
    "#@title List all Available S3 data for the Primary Analysis Segment\n",
    "\n",
    "available_s3_keys = utils.list_available_s3_keys(os.environ['ORG_ID'], primary_segment_summary_df)"
   ],
   "metadata": {
    "colab": {
     "base_uri": "https://localhost:8080/"
    },
    "id": "Gtyeo1sIDHy_",
    "executionInfo": {
     "status": "ok",
     "timestamp": 1682012860448,
     "user_tz": 420,
     "elapsed": 190,
     "user": {
      "displayName": "Jimmy Buffi",
      "userId": "02111946216068691065"
     }
    },
    "outputId": "4c4cffbb-76b8-470b-bd0f-b4a21799e9c2"
   },
   "execution_count": null,
   "outputs": []
  },
  {
   "cell_type": "code",
   "source": [
    "#@title Load the Primary Analysis Segment into an Analysis Dictionary with Mean and Standard Dev DataFrames\n",
    "\n",
    "primary_segment_data_df = utils.load_games_to_df_from_s3_paths(primary_segment_summary_df['s3_path_delivery'].tolist())\n",
    "\n",
    "primary_segment_dict = utils.load_data_into_analysis_dict(primary_analysis_segment, primary_segment_data_df, segment_label=primary_segment_label)"
   ],
   "metadata": {
    "id": "TmySCnweFl7d",
    "colab": {
     "base_uri": "https://localhost:8080/",
     "height": 415
    },
    "executionInfo": {
     "status": "error",
     "timestamp": 1682012872113,
     "user_tz": 420,
     "elapsed": 727,
     "user": {
      "displayName": "Jimmy Buffi",
      "userId": "02111946216068691065"
     }
    },
    "outputId": "49e90ac0-4ec3-4f03-c895-369778e8140a"
   },
   "execution_count": null,
   "outputs": []
  },
  {
   "cell_type": "code",
   "execution_count": null,
   "outputs": [],
   "source": [
    "#@title Optional - Uncomment below and set Comparison Analysis Segment Inputs\n",
    "\n",
    "comparison_segment_label = 'Early 2023'\n",
    "\n",
    "comparison_s3_metadata = s3_metadata\n",
    "\n",
    "comparison_analysis_segment = PlayerMetadata(\n",
    "    mlbam_player_ids=['605488'],\n",
    "    session_dates=None, # None defaults to all\n",
    "    game_pks=None, # None defaults to all,\n",
    "    session_date_start = None,\n",
    "    session_date_end = '2023-04-12',\n",
    "    year = None,\n",
    "    mlb_play_guid=None, # set the mlb play GUID for the skeleton animation; None defaults to the first play\n",
    "    s3_metadata=comparison_s3_metadata,\n",
    ")\n",
    "\n",
    "comparison_segment_summary_df = utils.filter_s3_summary_df(comparison_analysis_segment, s3_df)\n",
    "\n",
    "comparison_segment_data_df = utils.load_games_to_df_from_s3_paths(comparison_segment_summary_df['s3_path_delivery'].tolist())\n",
    "\n",
    "comparison_segment_dict = utils.load_data_into_analysis_dict(comparison_analysis_segment, comparison_segment_data_df, segment_label=comparison_segment_label)"
   ],
   "metadata": {
    "collapsed": false
   }
  },
  {
   "cell_type": "code",
   "execution_count": null,
   "outputs": [],
   "source": [
    "#@title Put One or Two Analysis Dicts into a list to be sent to AWS for Analysis\n",
    "\n",
    "# analysis_dicts = [primary_segment_dict]\n",
    "analysis_dicts = [primary_segment_dict, comparison_segment_dict]"
   ],
   "metadata": {
    "collapsed": false
   }
  },
  {
   "cell_type": "code",
   "execution_count": null,
   "outputs": [],
   "source": [
    "#@title Optional - Create Simple Comparison Plots of Joint Angles\n",
    "\n",
    "x_column = 'time_from_max_hand'  # 'time_from_max_hand', 'norm_time', 'rel_fame', 'time'\n",
    "\n",
    "angle_names = ['pelvis_rot', 'pelvis_side', 'torso_rot', 'torso_side', 'torso_ext', 'left_shoulder_rot', 'left_shoulder_flex', 'left_shoulder_abd', 'left_elbow']\n",
    "\n",
    "stand_devs_to_shade = 1.0\n",
    "\n",
    "figs = []\n",
    "\n",
    "for angle_name in angle_names:\n",
    "\n",
    "    fig = plt.figure()\n",
    "\n",
    "    for segment_dict in analysis_dicts:\n",
    "\n",
    "        y = segment_dict['df_mean'][angle_name]\n",
    "        y_lo = segment_dict['df_mean'][angle_name] - (stand_devs_to_shade * segment_dict['df_std'][angle_name])\n",
    "        y_hi = segment_dict['df_mean'][angle_name] + (stand_devs_to_shade * segment_dict['df_std'][angle_name])\n",
    "\n",
    "        plt.fill_between(segment_dict['df_mean'][x_column], y_lo, y_hi, alpha=0.4)\n",
    "        plt.plot(segment_dict['df_mean'][x_column], y, label=segment_dict['segment_label'])\n",
    "\n",
    "    # plt.xlim([-1, 0.1])  # uncomment to limit the width of the x-axis\n",
    "    plt.legend()\n",
    "    plt.grid()\n",
    "\n",
    "    plt.ylabel(\"joint angle (deg)\")\n",
    "    plt.xlabel(x_column)\n",
    "\n",
    "    plt.title(angle_name)\n",
    "\n",
    "    figs.append(fig)\n",
    "\n",
    "    plt.show()\n"
   ],
   "metadata": {
    "collapsed": false
   }
  },
  {
   "cell_type": "code",
   "execution_count": null,
   "outputs": [],
   "source": [
    "#@title Optional - Save Plots to a PDF\n",
    "\n",
    "from matplotlib.backends.backend_pdf import PdfPages\n",
    "\n",
    "pdf_file_name = 'analysis.pdf'\n",
    "\n",
    "pdf_analysis = PdfPages(pdf_file_name)\n",
    "\n",
    "for fig in figs:\n",
    "\n",
    "    pdf_analysis.savefig(fig)\n",
    "\n",
    "pdf_analysis.close()\n",
    "\n",
    "print('Saved plots to', pdf_file_name)"
   ],
   "metadata": {
    "collapsed": false
   }
  },
  {
   "cell_type": "code",
   "execution_count": null,
   "metadata": {
    "id": "tN8xEHVtIwLE"
   },
   "outputs": [],
   "source": [
    "#@title Get Population Inverse Kinematics Data from S3\n",
    "\n",
    "print('Loading data from:', s3_metadata.s3_population_prefix)\n",
    "\n",
    "print('Downloading population mean...')\n",
    "pop_mean_df = wr.s3.read_csv([f\"{s3_metadata.s3_population_prefix}mean_ik.csv\"], index_col=[0])\n",
    "\n",
    "print('Downloading population standard deviation...')\n",
    "pop_std_df = wr.s3.read_csv([f\"{s3_metadata.s3_population_prefix}std_ik.csv\"], index_col=[0])\n",
    "\n",
    "print('Done!')"
   ]
  },
  {
   "cell_type": "code",
   "execution_count": null,
   "metadata": {
    "id": "qjra7LRfl8ni",
    "colab": {
     "base_uri": "https://localhost:8080/"
    },
    "executionInfo": {
     "status": "ok",
     "timestamp": 1681975443426,
     "user_tz": 420,
     "elapsed": 206,
     "user": {
      "displayName": "Jimmy Buffi",
      "userId": "02111946216068691065"
     }
    },
    "outputId": "e5a8732d-2fd7-4875-c6f4-8ffa0661543f"
   },
   "outputs": [],
   "source": [
    "#@title Inspect Available Joint Angle Names\n",
    "\n",
    "joint_angle_names = utils.get_available_joint_angles(analysis_dicts)\n",
    "print(f\"Available Joint Angles:\\nn={len(joint_angle_names)}\\n{joint_angle_names}\")"
   ]
  },
  {
   "cell_type": "code",
   "execution_count": null,
   "metadata": {
    "id": "fVpHElJ84Fq-"
   },
   "outputs": [],
   "source": [
    "#@title Set Plot Information for Synchronized Animation\n",
    "\n",
    "time_column_to_plot = 'time_from_max_hand'  # seconds from max dom hand velo\n",
    "\n",
    "joint_angles_to_plot = ['torso_side', 'left_elbow']  # list of joint angles to plot below, from available angles above\n",
    "\n",
    "# set to True to plot the mean joint angle trace across the selection,\n",
    "# set to False to plot the joint angle trace for the play specified by the mlb_play_guid in the analysis_dict from that cell above\n",
    "plot_joint_angle_mean = True\n",
    "\n",
    "# set to True to write an html file for each joint angle skeleton animation\n",
    "write_individual_html = False\n",
    "\n",
    "# step size between animation frames\n",
    "frame_step = 25"
   ]
  },
  {
   "cell_type": "code",
   "execution_count": null,
   "metadata": {
    "id": "qLA-7XUDRhZr",
    "scrolled": false,
    "colab": {
     "base_uri": "https://localhost:8080/",
     "height": 1000
    },
    "executionInfo": {
     "status": "ok",
     "timestamp": 1681976790284,
     "user_tz": 420,
     "elapsed": 13127,
     "user": {
      "displayName": "Jimmy Buffi",
      "userId": "02111946216068691065"
     }
    },
    "outputId": "22d51ea6-1ca5-459c-e1fb-f439d2f96d7d"
   },
   "outputs": [],
   "source": [
    "#@title Create Animation by Sending Plot Information to AWS\n",
    "\n",
    "figs = []\n",
    "\n",
    "for joint_angle_to_plot in joint_angles_to_plot:\n",
    "    fig = utils.get_animation(boto3_session, analysis_dicts, pop_mean_df, pop_std_df, time_column_to_plot, joint_angle_to_plot, plot_joint_angle_mean, frame_step=frame_step)\n",
    "  \n",
    "    if write_individual_html:\n",
    "        fig.write_html(f'{joint_angle_to_plot}_animation.html', full_html=True, include_plotlyjs='cdn')\n",
    "\n",
    "    figs.append(fig)\n",
    "\n",
    "    fig.show()"
   ]
  },
  {
   "cell_type": "code",
   "execution_count": null,
   "metadata": {
    "id": "80zMOFsNBZbK",
    "scrolled": true,
    "cellView": "form",
    "colab": {
     "base_uri": "https://localhost:8080/",
     "height": 1000
    },
    "executionInfo": {
     "status": "ok",
     "timestamp": 1681844281050,
     "user_tz": 420,
     "elapsed": 10824,
     "user": {
      "displayName": "Jimmy Buffi",
      "userId": "02111946216068691065"
     }
    },
    "outputId": "416f996b-994e-4d56-bfc9-5f98f74d5353"
   },
   "outputs": [],
   "source": [
    "#@title Create Joint Angle HTML Plots\n",
    "import numpy as np\n",
    "\n",
    "joint_angle_names_no_zeros = [\n",
    "    angle for angle in joint_angle_names \n",
    "    if not np.allclose(pop_mean_df[angle].values, np.zeros(len(pop_mean_df)))\n",
    "    ]\n",
    "\n",
    "joint_angle_lists = utils.list_chunks(joint_angle_names_no_zeros, 3)\n",
    "\n",
    "plot_colors = ['rgb(31, 119, 180)', 'rgb(255, 127, 14)',\n",
    "               'rgb(44, 160, 44)', 'rgb(214, 39, 40)',\n",
    "               'rgb(148, 103, 189)']\n",
    "\n",
    "time_label = 'time_from_max_hand'\n",
    "figs_angles = []\n",
    "\n",
    "for joint_angle_list in joint_angle_lists:\n",
    "\n",
    "    fig = utils.get_joint_plot(boto3_session, analysis_dicts, pop_mean_df, pop_std_df, time_label, joint_angle_list)\n",
    "    fig.show()\n",
    "    figs_angles.append(fig)"
   ]
  },
  {
   "cell_type": "code",
   "execution_count": null,
   "metadata": {
    "id": "rb2TmzIE3fMX",
    "colab": {
     "base_uri": "https://localhost:8080/"
    },
    "executionInfo": {
     "status": "ok",
     "timestamp": 1681844281269,
     "user_tz": 420,
     "elapsed": 224,
     "user": {
      "displayName": "Jimmy Buffi",
      "userId": "02111946216068691065"
     }
    },
    "outputId": "5cd4a546-d967-459f-e589-41bd302be428"
   },
   "outputs": [],
   "source": [
    "#@title Write Report HTML to Local CoLab Folder\n",
    "utils.save_figs_to_html(figs+figs_angles)"
   ]
  },
  {
   "cell_type": "code",
   "execution_count": null,
   "outputs": [],
   "source": [],
   "metadata": {
    "collapsed": false
   }
  }
 ],
 "metadata": {
  "colab": {
   "provenance": []
  },
  "gpuClass": "standard",
  "kernelspec": {
   "display_name": "Python 3 (ipykernel)",
   "language": "python",
   "name": "python3"
  },
  "language_info": {
   "codemirror_mode": {
    "name": "ipython",
    "version": 3
   },
   "file_extension": ".py",
   "mimetype": "text/x-python",
   "name": "python",
   "nbconvert_exporter": "python",
   "pygments_lexer": "ipython3",
   "version": "3.10.9"
  }
 },
 "nbformat": 4,
 "nbformat_minor": 0
}
