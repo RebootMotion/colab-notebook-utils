{
 "cells": [
  {
   "attachments": {},
   "cell_type": "markdown",
   "metadata": {
    "id": "tSkr03E15m2w"
   },
   "source": [
    "# Demo Notebook for Creating a Reboot Motion Inverse Kinematics Report\n",
    "\n",
    "Run the cells in order, making sure to enter AWS credentials in the cell when prompted\n"
   ]
  },
  {
   "cell_type": "code",
   "execution_count": null,
   "metadata": {
    "cellView": "form",
    "colab": {
     "base_uri": "https://localhost:8080/"
    },
    "id": "CtfKvfQHlHdx",
    "outputId": "c7ae1dab-ae22-4f86-dfce-9e7524ec2567",
    "pycharm": {
     "is_executing": true
    }
   },
   "outputs": [],
   "source": [
    "#@title Install Python Package\n",
    "\n",
    "!pip install git+https://github.com/RebootMotion/reboot-toolkit.git@v2.3.1#egg=reboot_toolkit > /dev/null\n",
    "!echo \"Done Installing\""
   ]
  },
  {
   "cell_type": "code",
   "execution_count": null,
   "metadata": {
    "cellView": "form",
    "id": "2FxRcqDgEXce"
   },
   "outputs": [],
   "source": [
    "#@title Import Python Libraries\n",
    "\n",
    "import awswrangler as wr\n",
    "import boto3\n",
    "import reboot_toolkit as rtk\n",
    "import matplotlib.pyplot as plt\n",
    "import os\n",
    "\n",
    "from reboot_toolkit import S3Metadata, MocapType, MovementType, Handedness, FileType, PlayerMetadata, setup_aws\n",
    "from IPython.display import display"
   ]
  },
  {
   "cell_type": "code",
   "execution_count": null,
   "metadata": {
    "colab": {
     "base_uri": "https://localhost:8080/"
    },
    "executionInfo": {
     "elapsed": 243357,
     "status": "ok",
     "timestamp": 1682088623455,
     "user": {
      "displayName": "Jimmy Buffi",
      "userId": "02111946216068691065"
     },
     "user_tz": 420
    },
    "id": "IGSVVhSKWZKY",
    "outputId": "cbc1838b-c5c2-4e6a-ee3b-5e712a550440"
   },
   "outputs": [],
   "source": [
    "#@title AWS Credentials\n",
    "\n",
    "# Upload your Organization's .env file to the local file system, per https://pypi.org/project/python-dotenv/\n",
    "#\n",
    "# Also, update the org_id in the field below to your own org_id\n",
    "# (note this isn't strictly necessary, the .env file will override what's written here)\n",
    "\n",
    "boto3_session = setup_aws(org_id=\"org-mlbbiomech\", aws_default_region=\"us-west-1\")"
   ]
  },
  {
   "cell_type": "code",
   "execution_count": null,
   "metadata": {},
   "outputs": [],
   "source": [
    "#@title Set S3 File Info\n",
    "\n",
    "# Common changes you might want to make:\n",
    "\n",
    "# To analyze both Hawk-Eye HFR data from the Stats API,\n",
    "# and also Hawk-Eye Action files (e.g. from the DSP),\n",
    "#  set mocap_types=[MocapType.HAWKEYE_HFR, MocapType.HAWKEYE]\n",
    "\n",
    "# To analyze baseball-hitting,\n",
    "# set movement_type=MovementType.BASEBALL_HITTING\n",
    "\n",
    "# To analyze a right players,\n",
    "# set handedness=Handedness.RIGHT\n",
    "\n",
    "# To analyze momentum and energy data,\n",
    "# set file_type=FileType.MOMENTUM_ENERGY\n",
    "\n",
    "# See https://docs.rebootmotion.com/ for all available file types and the data in each\n",
    "\n",
    "s3_metadata = S3Metadata(\n",
    "    org_id=os.environ['ORG_ID'],\n",
    "    mocap_types=[MocapType.HAWKEYE_HFR],\n",
    "    movement_type=MovementType.BASEBALL_PITCHING,\n",
    "    handedness=Handedness.LEFT,\n",
    "    file_type=FileType.INVERSE_KINEMATICS\n",
    ")\n",
    "\n",
    "s3_df = rtk.download_s3_summary_df(s3_metadata)"
   ]
  },
  {
   "cell_type": "code",
   "execution_count": null,
   "metadata": {},
   "outputs": [],
   "source": [
    "#@title Display the Interface for Selecting the Primary Data Segment to Analyze\n",
    "\n",
    "# Run this cell to reset all options in this widget to NULL\n",
    "primary_segment_widget = rtk.create_interactive_widget(s3_df)\n",
    "\n",
    "display(primary_segment_widget)"
   ]
  },
  {
   "cell_type": "code",
   "execution_count": null,
   "metadata": {
    "collapsed": false
   },
   "outputs": [],
   "source": [
    "#@title Print the Selections for the Primary Data Segment to Analyze\n",
    "\n",
    "print('Options selected (re-run the above cell to refresh):')\n",
    "print(primary_segment_widget.result)"
   ]
  },
  {
   "cell_type": "code",
   "execution_count": null,
   "metadata": {},
   "outputs": [],
   "source": [
    "#@title Set Primary Analysis Segment Info\n",
    "\n",
    "# Update this label to however you'd like to describe your primary data segment in your analysis\n",
    "primary_segment_label = 'Primary Segment'\n",
    "\n",
    "primary_analysis_segment = PlayerMetadata(\n",
    "    org_player_ids=primary_segment_widget.result[\"org_player_ids\"],\n",
    "    session_dates=primary_segment_widget.result[\"session_dates\"],\n",
    "    session_nums=primary_segment_widget.result[\"session_nums\"],\n",
    "    session_date_start=primary_segment_widget.result[\"session_date_start\"],\n",
    "    session_date_end=primary_segment_widget.result[\"session_date_end\"],\n",
    "    year=primary_segment_widget.result[\"year\"],\n",
    "    org_movement_id=None, # set the play GUID for the skeleton animation; None defaults to the first play\n",
    "    s3_metadata=s3_metadata,\n",
    ")\n",
    "\n",
    "primary_segment_summary_df = rtk.filter_s3_summary_df(primary_analysis_segment, s3_df)\n",
    "\n",
    "# Common Issue:\n",
    "# If no data files are returned here,\n",
    "# check that the segment selection widget and the S3 File Info above are set correctly,\n",
    "# also if the cells were updated after running once, check that they were run again with any new selections."
   ]
  },
  {
   "cell_type": "code",
   "execution_count": null,
   "metadata": {
    "colab": {
     "base_uri": "https://localhost:8080/"
    },
    "executionInfo": {
     "elapsed": 190,
     "status": "ok",
     "timestamp": 1682012860448,
     "user": {
      "displayName": "Jimmy Buffi",
      "userId": "02111946216068691065"
     },
     "user_tz": 420
    },
    "id": "Gtyeo1sIDHy_",
    "outputId": "4c4cffbb-76b8-470b-bd0f-b4a21799e9c2"
   },
   "outputs": [],
   "source": [
    "#@title List all Available S3 data for the Primary Analysis Segment\n",
    "\n",
    "available_s3_keys = rtk.list_available_s3_keys(os.environ['ORG_ID'], primary_segment_summary_df)"
   ]
  },
  {
   "cell_type": "code",
   "execution_count": null,
   "metadata": {
    "colab": {
     "base_uri": "https://localhost:8080/",
     "height": 415
    },
    "executionInfo": {
     "elapsed": 727,
     "status": "error",
     "timestamp": 1682012872113,
     "user": {
      "displayName": "Jimmy Buffi",
      "userId": "02111946216068691065"
     },
     "user_tz": 420
    },
    "id": "TmySCnweFl7d",
    "outputId": "49e90ac0-4ec3-4f03-c895-369778e8140a"
   },
   "outputs": [],
   "source": [
    "#@title Load the Primary Analysis Segment into an Analysis Dictionary with Mean and Standard Dev DataFrames\n",
    "\n",
    "primary_segment_data_df = rtk.load_games_to_df_from_s3_paths(primary_segment_summary_df['s3_path_delivery'].tolist())\n",
    "\n",
    "primary_segment_dict = rtk.load_data_into_analysis_dict(primary_analysis_segment, primary_segment_data_df, segment_label=primary_segment_label)"
   ]
  },
  {
   "cell_type": "code",
   "execution_count": null,
   "metadata": {},
   "outputs": [],
   "source": [
    "#@title Display the Interface for Selecting the Comparison Data Segment to Analyze\n",
    "\n",
    "# Run this cell to reset all options in this widget to NULL\n",
    "comparison_segment_widget = rtk.create_interactive_widget(s3_df)\n",
    "\n",
    "display(comparison_segment_widget)"
   ]
  },
  {
   "cell_type": "code",
   "execution_count": null,
   "metadata": {},
   "outputs": [],
   "source": [
    "#@title Print the Selections for the Comparison Data Segment to Analyze\n",
    "\n",
    "print('Options selected (re-run the above cell to refresh):')\n",
    "print(comparison_segment_widget.result)"
   ]
  },
  {
   "cell_type": "code",
   "execution_count": null,
   "metadata": {},
   "outputs": [],
   "source": [
    "#@title Optional - Set Comparison Analysis Segment Inputs\n",
    "\n",
    "# Update this label to however you'd like to describe your primary data segment in your analysis\n",
    "comparison_segment_label = 'Comparison Segment'\n",
    "\n",
    "comparison_s3_metadata = s3_metadata\n",
    "\n",
    "comparison_analysis_segment = PlayerMetadata(\n",
    "    org_player_ids=comparison_segment_widget.result[\"org_player_ids\"],\n",
    "    session_dates=comparison_segment_widget.result[\"session_dates\"],\n",
    "    session_nums=comparison_segment_widget.result[\"session_nums\"],\n",
    "    session_date_start=comparison_segment_widget.result[\"session_date_start\"],\n",
    "    session_date_end=comparison_segment_widget.result[\"session_date_end\"],\n",
    "    year=comparison_segment_widget.result[\"year\"],\n",
    "    org_movement_id=None, # set the play GUID for the skeleton animation; None defaults to the first play\n",
    "    s3_metadata=comparison_s3_metadata,\n",
    ")\n",
    "\n",
    "comparison_segment_summary_df = rtk.filter_s3_summary_df(comparison_analysis_segment, s3_df)\n",
    "\n",
    "comparison_segment_data_df = rtk.load_games_to_df_from_s3_paths(comparison_segment_summary_df['s3_path_delivery'].tolist())\n",
    "\n",
    "comparison_segment_dict = rtk.load_data_into_analysis_dict(comparison_analysis_segment, comparison_segment_data_df, segment_label=comparison_segment_label)\n",
    "\n",
    "# Common Issue:\n",
    "# If no data files are returned here,\n",
    "# check that the segment selection widget and the S3 File Info above are set correctly,\n",
    "# also if the cells were updated after running once, check that they were run again with any new selections."
   ]
  },
  {
   "cell_type": "code",
   "execution_count": null,
   "metadata": {},
   "outputs": [],
   "source": [
    "#@title Put One or Two Analysis Dicts into a list to be sent to AWS for Analysis\n",
    "\n",
    "# If you did not add any comparison segment, uncomment and comment below so the list only includes the primary segment\n",
    "# analysis_dicts = [primary_segment_dict]\n",
    "\n",
    "analysis_dicts = [primary_segment_dict, comparison_segment_dict]"
   ]
  },
  {
   "cell_type": "code",
   "execution_count": null,
   "metadata": {},
   "outputs": [],
   "source": [
    "#@title Optional - Create Simple Comparison Plots of Joint Angles\n",
    "\n",
    "# Available time options for the x_column include: 'time_from_max_hand', 'norm_time', 'rel_frame', 'time'\n",
    "x_column = 'time_from_max_hand'\n",
    "\n",
    "# Below is an example of possible joint angles of interest for a left-handed pitcher,\n",
    "# feel free to update to any available joint angles from https://docs.rebootmotion.com/,\n",
    "# or if your file type is MOMENTUM_ENERGY, you can update \"angle_names\" to columns from that file type\n",
    "y_columns = [\n",
    "    'pelvis_rot', 'pelvis_side',\n",
    "    'torso_rot', 'torso_side', 'torso_ext',\n",
    "    'left_shoulder_rot', 'left_shoulder_flex', 'left_shoulder_abd',\n",
    "    'left_elbow'\n",
    "]\n",
    "\n",
    "# Set the y-axis label to whatever is appropriate for the y-columns above\n",
    "y_axis_label = \"joint angle (deg)\"\n",
    "\n",
    "# Update to the number of standard deviations you want to shade in the plot relative to the mean\n",
    "stand_devs_to_shade = 1.0\n",
    "\n",
    "# Set to true to plot the time derivative of each y_column above, which will not shade stand_devs\n",
    "do_plot_velocity = False\n",
    "\n",
    "mpl_figs = []\n",
    "\n",
    "for y_column in y_columns:\n",
    "\n",
    "    mpl_fig = plt.figure()\n",
    "\n",
    "    for segment_dict in analysis_dicts:\n",
    "\n",
    "        if do_plot_velocity:\n",
    "            y = segment_dict['df_mean'][y_column].diff() / segment_dict['df_mean']['time'].diff()\n",
    "\n",
    "        else:\n",
    "            y = segment_dict['df_mean'][y_column]\n",
    "\n",
    "            y_lo = segment_dict['df_mean'][y_column] - (stand_devs_to_shade * segment_dict['df_std'][y_column])\n",
    "            y_hi = segment_dict['df_mean'][y_column] + (stand_devs_to_shade * segment_dict['df_std'][y_column])\n",
    "\n",
    "            plt.fill_between(segment_dict['df_mean'][x_column], y_lo, y_hi, alpha=0.4)\n",
    "\n",
    "        plt.plot(segment_dict['df_mean'][x_column], y, label=segment_dict['segment_label'])\n",
    "\n",
    "    plt.ylabel(y_axis_label)\n",
    "    # plt.ylim([-180, 180])  # uncomment to limit the height of the y-axis\n",
    "\n",
    "    plt.xlabel(x_column)\n",
    "    # plt.xlim([-1, 0.1])  # uncomment to limit the width of the x-axis\n",
    "\n",
    "    plt.title(y_column)\n",
    "\n",
    "    plt.legend()\n",
    "\n",
    "    plt.grid()\n",
    "\n",
    "    plt.show()\n",
    "\n",
    "    mpl_figs.append(mpl_fig)\n"
   ]
  },
  {
   "cell_type": "code",
   "execution_count": null,
   "metadata": {},
   "outputs": [],
   "source": [
    "#@title Optional - Save Plots to a PDF\n",
    "\n",
    "from matplotlib.backends.backend_pdf import PdfPages\n",
    "\n",
    "pdf_file_name = 'analysis.pdf'\n",
    "\n",
    "pdf_analysis = PdfPages(pdf_file_name)\n",
    "\n",
    "for mpl_fig in mpl_figs:\n",
    "\n",
    "    pdf_analysis.savefig(mpl_fig)\n",
    "\n",
    "pdf_analysis.close()\n",
    "\n",
    "print('Saved plots to', pdf_file_name)"
   ]
  },
  {
   "cell_type": "code",
   "execution_count": null,
   "metadata": {
    "id": "tN8xEHVtIwLE"
   },
   "outputs": [],
   "source": [
    "#@title Get Population Inverse Kinematics Data from S3\n",
    "\n",
    "print('Loading data from:', s3_metadata.s3_population_prefix)\n",
    "\n",
    "print('Downloading population mean...')\n",
    "pop_mean_df = wr.s3.read_csv([f\"{s3_metadata.s3_population_prefix}mean_ik.csv\"], index_col=[0])\n",
    "\n",
    "print('Downloading population standard deviation...')\n",
    "pop_std_df = wr.s3.read_csv([f\"{s3_metadata.s3_population_prefix}std_ik.csv\"], index_col=[0])\n",
    "\n",
    "print('Done!')"
   ]
  },
  {
   "cell_type": "code",
   "execution_count": null,
   "metadata": {
    "colab": {
     "base_uri": "https://localhost:8080/"
    },
    "executionInfo": {
     "elapsed": 206,
     "status": "ok",
     "timestamp": 1681975443426,
     "user": {
      "displayName": "Jimmy Buffi",
      "userId": "02111946216068691065"
     },
     "user_tz": 420
    },
    "id": "qjra7LRfl8ni",
    "outputId": "e5a8732d-2fd7-4875-c6f4-8ffa0661543f"
   },
   "outputs": [],
   "source": [
    "#@title Inspect Available Joint Angle Names\n",
    "\n",
    "joint_angle_names = rtk.get_available_joint_angles(analysis_dicts)\n",
    "print(f\"Available Joint Angles:\\nn={len(joint_angle_names)}\\n{joint_angle_names}\")"
   ]
  },
  {
   "cell_type": "code",
   "execution_count": null,
   "metadata": {
    "id": "fVpHElJ84Fq-"
   },
   "outputs": [],
   "source": [
    "#@title Set Plot Information for Synchronized Animation\n",
    "\n",
    "time_column_to_plot = 'time_from_max_hand'  # seconds from max dom hand velo\n",
    "\n",
    "joint_angles_to_plot = ['torso_side', 'left_elbow']  # list of joint angles to plot below, from available angles above\n",
    "\n",
    "# set to True to plot the mean joint angle trace across the selection,\n",
    "# set to False to plot the joint angle trace for the play specified by the play_guid in the analysis_dict from that cell above\n",
    "plot_joint_angle_mean = True\n",
    "\n",
    "# set to True to write an html file for each joint angle skeleton animation\n",
    "write_individual_html = False\n",
    "\n",
    "# step size between animation frames\n",
    "frame_step = 25"
   ]
  },
  {
   "cell_type": "code",
   "execution_count": null,
   "metadata": {
    "colab": {
     "base_uri": "https://localhost:8080/",
     "height": 1000
    },
    "executionInfo": {
     "elapsed": 13127,
     "status": "ok",
     "timestamp": 1681976790284,
     "user": {
      "displayName": "Jimmy Buffi",
      "userId": "02111946216068691065"
     },
     "user_tz": 420
    },
    "id": "qLA-7XUDRhZr",
    "outputId": "22d51ea6-1ca5-459c-e1fb-f439d2f96d7d",
    "pycharm": {
     "is_executing": true
    },
    "scrolled": false
   },
   "outputs": [],
   "source": [
    "#@title Create Animation by Sending Plot Information to AWS\n",
    "\n",
    "figs = []\n",
    "\n",
    "for joint_angle_to_plot in joint_angles_to_plot:\n",
    "    fig = rtk.get_animation(boto3_session, analysis_dicts, pop_mean_df, pop_std_df, time_column_to_plot, joint_angle_to_plot, plot_joint_angle_mean, frame_step=frame_step)\n",
    "  \n",
    "    if write_individual_html:\n",
    "        fig.write_html(f'{joint_angle_to_plot}_animation.html', full_html=True, include_plotlyjs='cdn')\n",
    "\n",
    "    figs.append(fig)\n",
    "\n",
    "    fig.show()"
   ]
  },
  {
   "cell_type": "code",
   "execution_count": null,
   "metadata": {
    "cellView": "form",
    "colab": {
     "base_uri": "https://localhost:8080/",
     "height": 1000
    },
    "executionInfo": {
     "elapsed": 10824,
     "status": "ok",
     "timestamp": 1681844281050,
     "user": {
      "displayName": "Jimmy Buffi",
      "userId": "02111946216068691065"
     },
     "user_tz": 420
    },
    "id": "80zMOFsNBZbK",
    "outputId": "416f996b-994e-4d56-bfc9-5f98f74d5353",
    "scrolled": true
   },
   "outputs": [],
   "source": [
    "#@title Create Joint Angle HTML Plots\n",
    "import numpy as np\n",
    "\n",
    "joint_angle_names_no_zeros = [\n",
    "    angle for angle in joint_angle_names \n",
    "    if not np.allclose(pop_mean_df[angle].values, np.zeros(len(pop_mean_df)))\n",
    "    ]\n",
    "\n",
    "joint_angle_lists = rtk.list_chunks(joint_angle_names_no_zeros, 3)\n",
    "\n",
    "plot_colors = ['rgb(31, 119, 180)', 'rgb(255, 127, 14)',\n",
    "               'rgb(44, 160, 44)', 'rgb(214, 39, 40)',\n",
    "               'rgb(148, 103, 189)']\n",
    "\n",
    "time_label = 'time_from_max_hand'\n",
    "figs_angles = []\n",
    "\n",
    "for joint_angle_list in joint_angle_lists:\n",
    "\n",
    "    fig = rtk.get_joint_plot(boto3_session, analysis_dicts, pop_mean_df, pop_std_df, time_label, joint_angle_list)\n",
    "    fig.show()\n",
    "    figs_angles.append(fig)"
   ]
  },
  {
   "cell_type": "code",
   "execution_count": null,
   "metadata": {
    "colab": {
     "base_uri": "https://localhost:8080/"
    },
    "executionInfo": {
     "elapsed": 224,
     "status": "ok",
     "timestamp": 1681844281269,
     "user": {
      "displayName": "Jimmy Buffi",
      "userId": "02111946216068691065"
     },
     "user_tz": 420
    },
    "id": "rb2TmzIE3fMX",
    "outputId": "5cd4a546-d967-459f-e589-41bd302be428"
   },
   "outputs": [],
   "source": [
    "#@title Write Report HTML to Local Folder\n",
    "rtk.save_figs_to_html(figs+figs_angles)"
   ]
  },
  {
   "cell_type": "code",
   "execution_count": null,
   "metadata": {},
   "outputs": [],
   "source": []
  }
 ],
 "metadata": {
  "colab": {
   "provenance": []
  },
  "gpuClass": "standard",
  "kernelspec": {
   "display_name": "Python 3 (ipykernel)",
   "language": "python",
   "name": "python3"
  },
  "language_info": {
   "codemirror_mode": {
    "name": "ipython",
    "version": 3
   },
   "file_extension": ".py",
   "mimetype": "text/x-python",
   "name": "python",
   "nbconvert_exporter": "python",
   "pygments_lexer": "ipython3",
   "version": "3.10.9"
  }
 },
 "nbformat": 4,
 "nbformat_minor": 1
}
