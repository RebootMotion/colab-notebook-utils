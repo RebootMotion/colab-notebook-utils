{
 "cells": [
  {
   "cell_type": "markdown",
   "metadata": {
    "id": "tSkr03E15m2w"
   },
   "source": [
    "# Demo Notebook for Creating a Pitch by Pitch Report with Reboot Motion Metrics\n",
    "\n",
    "Run the cells in order, making sure to enter AWS credentials in the cell when prompted\n"
   ]
  },
  {
   "cell_type": "code",
   "execution_count": null,
   "metadata": {
    "id": "CtfKvfQHlHdx",
    "cellView": "form",
    "colab": {
     "base_uri": "https://localhost:8080/"
    },
    "outputId": "c7ae1dab-ae22-4f86-dfce-9e7524ec2567"
   },
   "outputs": [],
   "source": [
    "#@title Install Python Package\n",
    "\n",
    "!pip install -q git+https://github.com/RebootMotion/colab-notebook-utils.git@v1.0.0#egg=colab_notebook_utils"
   ]
  },
  {
   "cell_type": "code",
   "execution_count": null,
   "metadata": {
    "id": "2FxRcqDgEXce",
    "cellView": "form"
   },
   "outputs": [],
   "source": [
    "import boto3\n",
    "import colab_notebook_utils as utils\n",
    "import matplotlib.pyplot as plt\n",
    "import os\n",
    "import pandas as pd\n",
    "\n",
    "from colab_notebook_utils import S3Metadata, MocapType, MovementType, Handedness, FileType, PlayerMetadata"
   ]
  },
  {
   "cell_type": "code",
   "execution_count": null,
   "metadata": {
    "id": "IGSVVhSKWZKY",
    "colab": {
     "base_uri": "https://localhost:8080/"
    },
    "executionInfo": {
     "status": "ok",
     "timestamp": 1682088623455,
     "user_tz": 420,
     "elapsed": 243357,
     "user": {
      "displayName": "Jimmy Buffi",
      "userId": "02111946216068691065"
     }
    },
    "outputId": "cbc1838b-c5c2-4e6a-ee3b-5e712a550440"
   },
   "outputs": [],
   "source": [
    "#@title Org and AWS Credentials\n",
    "\n",
    "from dotenv import load_dotenv\n",
    "\n",
    "load_dotenv()\n",
    "\n",
    "if 'AWS_ACCESS_KEY_ID' not in os.environ:\n",
    "    from getpass import getpass\n",
    "\n",
    "    os.environ['ORG_ID'] = getpass('Enter reboot-motion org_id here:')\n",
    "    os.environ['AWS_ACCESS_KEY_ID'] = getpass('Enter AWS_ACCESS_KEY_ID here:')\n",
    "    os.environ['AWS_SECRET_ACCESS_KEY'] = getpass('Enter SECRET_ACCESS_KEY here:')\n",
    "    os.environ['AWS_DEFAULT_REGION'] = getpass('Enter AWS_DEFAULT_REGION here:')\n",
    "\n",
    "boto3_session = boto3.session.Session(\n",
    "    aws_access_key_id=os.environ['AWS_ACCESS_KEY_ID'],\n",
    "    aws_secret_access_key=os.environ['AWS_SECRET_ACCESS_KEY'],\n",
    "    region_name=os.environ['AWS_DEFAULT_REGION']\n",
    "    )\n",
    "\n",
    "print('Current Boto3 Session:')\n",
    "print(boto3_session)"
   ]
  },
  {
   "cell_type": "code",
   "execution_count": null,
   "outputs": [],
   "source": [
    "#@title Set S3 File Info\n",
    "\n",
    "s3_metadata = S3Metadata(\n",
    "    org_id=os.environ['ORG_ID'],\n",
    "    mocap_type=MocapType.HAWKEYE_HFR,\n",
    "    movement_type=MovementType.BASEBALL_PITCHING,\n",
    "    handedness=Handedness.LEFT,\n",
    "    file_type=FileType.METRICS_BASEBALL_PITCHING_V2\n",
    ")\n",
    "\n",
    "s3_df = utils.download_s3_summary_df(s3_metadata)"
   ],
   "metadata": {
    "collapsed": false
   }
  },
  {
   "cell_type": "code",
   "execution_count": null,
   "outputs": [],
   "source": [
    "#@title Set Primary Analysis Segment Info\n",
    "\n",
    "primary_segment_label = '2023-04-13'\n",
    "\n",
    "primary_analysis_segment = PlayerMetadata(\n",
    "    mlbam_player_ids=['605488'],\n",
    "    session_dates=None,\n",
    "    game_pks=None, # None defaults to all\n",
    "    session_date_start = '2023-04-13',\n",
    "    session_date_end = None,\n",
    "    year = None,\n",
    "    mlb_play_guid=None, # set the mlb play GUID for the skeleton animation; None defaults to the first play\n",
    "    s3_metadata=s3_metadata,\n",
    ")\n",
    "\n",
    "primary_segment_summary_df = utils.filter_s3_summary_df(primary_analysis_segment, s3_df)"
   ],
   "metadata": {
    "collapsed": false
   }
  },
  {
   "cell_type": "code",
   "source": [
    "#@title Add Movement Num and S3 Key to Primary DataFrame to Enable Sorting\n",
    "\n",
    "prim_available_s3_keys = utils.list_available_s3_keys(os.environ['ORG_ID'], primary_segment_summary_df)\n",
    "\n",
    "primary_segment_data_df = utils.load_games_to_df_from_s3_paths(primary_segment_summary_df['s3_path_delivery'].tolist())\n",
    "\n",
    "primary_segment_data_df = utils.merge_data_df_with_s3_keys(primary_segment_data_df, prim_available_s3_keys).sort_values(by=['session_date', 'movement_num'])"
   ],
   "metadata": {
    "colab": {
     "base_uri": "https://localhost:8080/"
    },
    "id": "Gtyeo1sIDHy_",
    "executionInfo": {
     "status": "ok",
     "timestamp": 1682012860448,
     "user_tz": 420,
     "elapsed": 190,
     "user": {
      "displayName": "Jimmy Buffi",
      "userId": "02111946216068691065"
     }
    },
    "outputId": "4c4cffbb-76b8-470b-bd0f-b4a21799e9c2"
   },
   "execution_count": null,
   "outputs": []
  },
  {
   "cell_type": "code",
   "execution_count": null,
   "outputs": [],
   "source": [
    "#@title Optional - Uncomment below and set Comparison Analysis Segment Inputs\n",
    "\n",
    "comparison_segment_label = 'Early 2023'\n",
    "\n",
    "comparison_s3_metadata = s3_metadata\n",
    "\n",
    "comparison_analysis_segment = PlayerMetadata(\n",
    "    mlbam_player_ids=['605488'],\n",
    "    session_dates=None, # None defaults to all\n",
    "    game_pks=None, # None defaults to all,\n",
    "    session_date_start = None,\n",
    "    session_date_end = '2023-04-12',\n",
    "    year = None,\n",
    "    mlb_play_guid=None, # set the mlb play GUID for the skeleton animation; None defaults to the first play\n",
    "    s3_metadata=comparison_s3_metadata,\n",
    ")\n",
    "\n",
    "comparison_segment_summary_df = utils.filter_s3_summary_df(comparison_analysis_segment, s3_df)\n",
    "\n",
    "comp_available_s3_keys = utils.list_available_s3_keys(os.environ['ORG_ID'], comparison_segment_summary_df)\n",
    "\n",
    "comparison_segment_data_df = utils.load_games_to_df_from_s3_paths(comparison_segment_summary_df['s3_path_delivery'].tolist())\n",
    "\n",
    "comparison_segment_data_df = utils.merge_data_df_with_s3_keys(comparison_segment_data_df , comp_available_s3_keys).sort_values(by=['session_date', 'movement_num'])"
   ],
   "metadata": {
    "collapsed": false
   }
  },
  {
   "cell_type": "code",
   "execution_count": null,
   "outputs": [],
   "source": [
    "comparison_segment_data_df['segment_type'] = 'comparison'\n",
    "\n",
    "primary_segment_data_df['segment_type'] = 'primary'\n",
    "\n",
    "analysis_df = pd.concat([comparison_segment_data_df, primary_segment_data_df]).sort_values(by=['session_date', 'movement_num']).reset_index(drop=True)"
   ],
   "metadata": {
    "collapsed": false
   }
  },
  {
   "cell_type": "code",
   "execution_count": null,
   "outputs": [],
   "source": [
    "print('Available metrics:')\n",
    "print()\n",
    "print(list(analysis_df))"
   ],
   "metadata": {
    "collapsed": false
   }
  },
  {
   "cell_type": "code",
   "execution_count": null,
   "outputs": [],
   "source": [
    "body_segments = ['rear_leg', 'lead_leg', 'torso', 'pitch_up_arm', 'pitch_forearm', 'pitch_hand']\n",
    "metric_categories = ['proj_max']\n",
    "metrics = [f\"{body_seg}_{metric_cat}\" for body_seg in body_segments for metric_cat in metric_categories]\n",
    "\n",
    "# body_joints = ['rear_hip_ir', 'lead_knee_flex', 'lumbar_ext', 'spine_rot', 'pitch_shoulder_horz', 'pitch_shoulder_rot', 'pitch_elbow_flex']\n",
    "# metric_categories = ['range_full_min', 'range_full_max', 'range_min', 'range_max', 'range_norm]\n",
    "# metrics = [f\"{body_joint}_{metric_cat}\" for body_joint in body_joints for metric_cat in metric_categories]\n",
    "\n",
    "# metrics = ['lower_half_to_torso_proj', 'torso_to_up_arm_proj', 'up_arm_to_pitch_hand_proj']\n",
    "\n",
    "comparison_color = 'green'\n",
    "primary_color = 'red'\n",
    "\n",
    "rolling_window = 10\n",
    "\n",
    "figs = []\n",
    "\n",
    "comparison = analysis_df.loc[analysis_df['segment_type'] == 'comparison']\n",
    "x_comp = comparison.index.tolist()\n",
    "\n",
    "primary = analysis_df.loc[analysis_df['segment_type'] == 'primary']\n",
    "x_prim = primary.index.tolist()\n",
    "\n",
    "for metric in metrics:\n",
    "\n",
    "    y_comp = comparison[metric].rolling(window=rolling_window).mean()\n",
    "    y_comp_std = comparison[metric].rolling(window=rolling_window).std()\n",
    "\n",
    "    y_comp_lo = y_comp - y_comp_std\n",
    "    y_comp_hi = y_comp + y_comp_std\n",
    "\n",
    "    y_prim = primary[metric].rolling(window=rolling_window).mean()\n",
    "    y_prim_std = primary[metric].rolling(window=rolling_window).std()\n",
    "\n",
    "    y_prim_lo = y_prim - y_prim_std\n",
    "    y_prim_hi = y_prim + y_prim_std\n",
    "\n",
    "    fig = plt.figure()\n",
    "\n",
    "    plt.fill_between(x_comp, y_comp_lo, y_comp_hi, color=comparison_color, alpha=0.2)\n",
    "    plt.plot(x_comp, y_comp, comparison_color)\n",
    "\n",
    "    plt.fill_between(x_prim, y_prim_lo, y_prim_hi, color=primary_color, alpha=0.2)\n",
    "    plt.plot(x_prim, y_prim, primary_color)\n",
    "\n",
    "    plt.ylabel('metric value')\n",
    "    plt.xlabel('season pitch count')\n",
    "    plt.title(metric)\n",
    "\n",
    "    plt.grid()\n",
    "\n",
    "    figs.append(fig)\n",
    "\n",
    "    plt.show()"
   ],
   "metadata": {
    "collapsed": false
   }
  },
  {
   "cell_type": "code",
   "execution_count": null,
   "outputs": [],
   "source": [
    "from matplotlib.backends.backend_pdf import PdfPages\n",
    "\n",
    "pdf_file_name = 'analysis_pitch_by_pitch.pdf'\n",
    "\n",
    "pdf_analysis = PdfPages(pdf_file_name)\n",
    "\n",
    "for fig in figs:\n",
    "\n",
    "    pdf_analysis.savefig(fig)\n",
    "\n",
    "pdf_analysis.close()\n",
    "\n",
    "print('Saved plots to', pdf_file_name)"
   ],
   "metadata": {
    "collapsed": false
   }
  },
  {
   "cell_type": "code",
   "execution_count": null,
   "outputs": [],
   "source": [],
   "metadata": {
    "collapsed": false
   }
  }
 ],
 "metadata": {
  "colab": {
   "provenance": []
  },
  "gpuClass": "standard",
  "kernelspec": {
   "display_name": "Python 3 (ipykernel)",
   "language": "python",
   "name": "python3"
  },
  "language_info": {
   "codemirror_mode": {
    "name": "ipython",
    "version": 3
   },
   "file_extension": ".py",
   "mimetype": "text/x-python",
   "name": "python",
   "nbconvert_exporter": "python",
   "pygments_lexer": "ipython3",
   "version": "3.10.9"
  }
 },
 "nbformat": 4,
 "nbformat_minor": 0
}
