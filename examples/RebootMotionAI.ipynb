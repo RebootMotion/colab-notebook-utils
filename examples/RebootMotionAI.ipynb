{
 "cells": [
  {
   "cell_type": "code",
   "execution_count": null,
   "outputs": [],
   "source": [
    "# !pip install git+https://github.com/RebootMotion/reboot-toolkit.git@v2.4.0#egg=reboot_toolkit > /dev/null\n",
    "!pip install git+https://github.com/RebootMotion/mlb-statsapi.git@v1.1.0#egg=mlb_statsapi > /dev/null\n",
    "!echo \"Done Installing\""
   ],
   "metadata": {
    "collapsed": false
   }
  },
  {
   "cell_type": "code",
   "execution_count": null,
   "outputs": [],
   "source": [
    "import awswrangler as wr\n",
    "import boto3\n",
    "import reboot_toolkit as rtk\n",
    "import matplotlib.pyplot as plt\n",
    "import os\n",
    "import pandas as pd\n",
    "\n",
    "from reboot_toolkit import S3Metadata, MocapType, MovementType, Handedness, FileType, PlayerMetadata, setup_aws, decorate_primary_segment_df_with_stats_api\n",
    "from IPython.display import display"
   ],
   "metadata": {
    "collapsed": false
   }
  },
  {
   "cell_type": "code",
   "execution_count": null,
   "outputs": [],
   "source": [
    "from pandasai import PandasAI\n",
    "from pandasai.llm.openai import OpenAI"
   ],
   "metadata": {
    "collapsed": false
   }
  },
  {
   "cell_type": "code",
   "execution_count": null,
   "outputs": [],
   "source": [
    "#@title User Input - No code changes required below this section, just enter information in forms\n",
    "\n",
    "# Update the below info to match your desired analysis information\n",
    "# Common changes you might want to make:\n",
    "\n",
    "# To analyze both Hawk-Eye HFR data from the Stats API,\n",
    "# and also Hawk-Eye Action files (e.g. from the DSP),\n",
    "#  set mocap_types=[MocapType.HAWKEYE_HFR, MocapType.HAWKEYE]\n",
    "\n",
    "# To analyze baseball-hitting,\n",
    "# set movement_type=MovementType.BASEBALL_HITTING\n",
    "\n",
    "# To analyze right-handed players,\n",
    "# set handedness=Handedness.RIGHT\n",
    "\n",
    "# To analyze data from the momentum and energy files,\n",
    "# set file_type=FileType.MOMENTUM_ENERGY\n",
    "\n",
    "# See https://docs.rebootmotion.com/ for all available file types and the data in each\n",
    "mocap_types = [MocapType.HAWKEYE_HFR]\n",
    "movement_type = MovementType.BASEBALL_PITCHING\n",
    "handedness = Handedness.RIGHT\n",
    "file_type = FileType.INVERSE_KINEMATICS\n",
    "\n",
    "# Update the label to whatever you'd like to be displayed in the visuals\n",
    "primary_segment_label = 'Primary Segment'\n",
    "comparison_segment_label = 'Comparison Segment'"
   ],
   "metadata": {
    "collapsed": false
   }
  },
  {
   "cell_type": "code",
   "execution_count": null,
   "outputs": [],
   "source": [
    "#@title AWS Credentials\n",
    "\n",
    "# Upload your Organization's .env file to the local file system, per https://pypi.org/project/python-dotenv/\n",
    "#\n",
    "# Also, update the org_id in the field below to your own org_id\n",
    "# (note this isn't strictly necessary, the .env file will override what's written here)\n",
    "\n",
    "boto3_session = setup_aws(org_id=\"org-mlbbiomech\", aws_default_region=\"us-west-1\")"
   ],
   "metadata": {
    "collapsed": false
   }
  },
  {
   "cell_type": "code",
   "execution_count": null,
   "outputs": [],
   "source": [
    "s3_metadata = S3Metadata(\n",
    "    org_id=os.environ['ORG_ID'],\n",
    "    mocap_types=mocap_types,\n",
    "    movement_type=movement_type,\n",
    "    handedness=handedness,\n",
    "    file_type=file_type,\n",
    ")\n",
    "\n",
    "s3_df = rtk.download_s3_summary_df(s3_metadata)"
   ],
   "metadata": {
    "collapsed": false
   }
  },
  {
   "cell_type": "code",
   "execution_count": null,
   "outputs": [],
   "source": [
    "primary_segment_widget = rtk.create_interactive_widget(s3_df)\n",
    "display(primary_segment_widget)"
   ],
   "metadata": {
    "collapsed": false
   }
  },
  {
   "cell_type": "code",
   "execution_count": null,
   "outputs": [],
   "source": [
    "#@title Set Primary Analysis Segment Info\n",
    "\n",
    "primary_segment_data = primary_segment_widget.children[1].result\n",
    "primary_analysis_segment = PlayerMetadata(\n",
    "    org_player_ids=primary_segment_data[\"org_player_ids\"],\n",
    "    session_dates=primary_segment_data[\"session_dates\"],\n",
    "    session_nums=primary_segment_data[\"session_nums\"],\n",
    "    session_date_start=primary_segment_data[\"session_date_start\"],\n",
    "    session_date_end=primary_segment_data[\"session_date_end\"],\n",
    "    year=primary_segment_data[\"year\"],\n",
    "    org_movement_id=None, # set the play GUID for the skeleton animation; None defaults to the first play\n",
    "    s3_metadata=s3_metadata,\n",
    ")\n",
    "\n",
    "primary_segment_summary_df = rtk.filter_s3_summary_df(primary_analysis_segment, s3_df)\n",
    "\n",
    "# Common Issue:\n",
    "# If no data files are returned here,\n",
    "# check that the segment selection widget and the S3 File Info above are set correctly,\n",
    "# also if the cells were updated after running once, check that they were run again with any new selections.\n",
    "\n",
    "# List all Available S3 data for the Primary Analysis Segment\n",
    "available_s3_keys = rtk.list_available_s3_keys(os.environ['ORG_ID'], primary_segment_summary_df)\n",
    "# Load the Primary Analysis Segment into an Analysis Dictionary with Mean and Standard Dev DataFrames\n",
    "primary_segment_data_df = rtk.load_games_to_df_from_s3_paths(primary_segment_summary_df['s3_path_delivery'].tolist())"
   ],
   "metadata": {
    "collapsed": false
   }
  },
  {
   "cell_type": "code",
   "execution_count": null,
   "outputs": [],
   "source": [
    "llm = OpenAI(api_token=os.environ['OPENAI_API_KEY'])"
   ],
   "metadata": {
    "collapsed": false
   }
  },
  {
   "cell_type": "code",
   "execution_count": null,
   "outputs": [],
   "source": [
    "pandas_ai = PandasAI(llm, enforce_privacy=True)"
   ],
   "metadata": {
    "collapsed": false
   }
  },
  {
   "cell_type": "code",
   "execution_count": null,
   "outputs": [],
   "source": [
    "pandas_ai.run(primary_segment_data_df, \"print code to plot shoulder flex mean vs time\")"
   ],
   "metadata": {
    "collapsed": false
   }
  },
  {
   "cell_type": "code",
   "execution_count": null,
   "outputs": [],
   "source": [],
   "metadata": {
    "collapsed": false
   }
  }
 ],
 "metadata": {
  "kernelspec": {
   "display_name": "Python 3",
   "language": "python",
   "name": "python3"
  },
  "language_info": {
   "codemirror_mode": {
    "name": "ipython",
    "version": 2
   },
   "file_extension": ".py",
   "mimetype": "text/x-python",
   "name": "python",
   "nbconvert_exporter": "python",
   "pygments_lexer": "ipython2",
   "version": "2.7.6"
  }
 },
 "nbformat": 4,
 "nbformat_minor": 0
}
