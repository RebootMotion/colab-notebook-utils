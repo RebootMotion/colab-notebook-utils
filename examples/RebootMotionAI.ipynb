{
 "cells": [
  {
   "cell_type": "markdown",
   "source": [
    "# Demo Notebook for Using AI to Analyze Reboot Motion Metrics\n",
    "\n",
    "__[CoLab Notebook Link](https://githubtocolab.com/RebootMotion/reboot-toolkit/blob/main/examples/RebootMotionAI.ipynb)__\n",
    "\n",
    "Run the cells in order, making sure to enter AWS credentials in the cell when prompted"
   ],
   "metadata": {
    "collapsed": false
   }
  },
  {
   "cell_type": "code",
   "execution_count": null,
   "outputs": [],
   "source": [
    "!pip install git+https://github.com/RebootMotion/reboot-toolkit.git@v2.4.0#egg=reboot_toolkit > /dev/null\n",
    "!pip install git+https://github.com/RebootMotion/mlb-statsapi.git@v1.1.0#egg=mlb_statsapi > /dev/null\n",
    "!echo \"Done Installing\""
   ],
   "metadata": {
    "collapsed": false
   }
  },
  {
   "cell_type": "code",
   "execution_count": null,
   "outputs": [],
   "source": [
    "!pip install pandasai"
   ],
   "metadata": {
    "collapsed": false
   }
  },
  {
   "cell_type": "code",
   "execution_count": null,
   "outputs": [],
   "source": [
    "import os\n",
    "import reboot_toolkit as rtk\n",
    "\n",
    "from getpass import getpass\n",
    "from reboot_toolkit import S3Metadata, MocapType, MovementType, Handedness, FileType, PlayerMetadata, setup_aws, decorate_primary_segment_df_with_stats_api\n",
    "from IPython.display import display"
   ],
   "metadata": {
    "collapsed": false
   }
  },
  {
   "cell_type": "code",
   "execution_count": null,
   "outputs": [],
   "source": [
    "from pandasai import PandasAI\n",
    "from pandasai.llm.openai import OpenAI"
   ],
   "metadata": {
    "collapsed": false
   }
  },
  {
   "cell_type": "code",
   "execution_count": null,
   "outputs": [],
   "source": [
    "#@title User Input - No code changes required below this section, just enter information in forms\n",
    "\n",
    "# Update the below info to match your desired analysis information\n",
    "# Common changes you might want to make:\n",
    "\n",
    "# To analyze both Hawk-Eye HFR data from the Stats API,\n",
    "# and also Hawk-Eye Action files (e.g. from the DSP),\n",
    "#  set mocap_types=[MocapType.HAWKEYE_HFR, MocapType.HAWKEYE]\n",
    "\n",
    "# To analyze baseball-hitting,\n",
    "# set movement_type=MovementType.BASEBALL_HITTING\n",
    "\n",
    "# To analyze right-handed players,\n",
    "# set handedness=Handedness.RIGHT\n",
    "\n",
    "# To analyze data from the momentum and energy files,\n",
    "# set file_type=FileType.MOMENTUM_ENERGY\n",
    "\n",
    "# See https://docs.rebootmotion.com/ for all available file types and the data in each\n",
    "mocap_types = [MocapType.HAWKEYE_HFR]\n",
    "movement_type = MovementType.BASEBALL_PITCHING\n",
    "handedness = Handedness.RIGHT\n",
    "file_type = FileType.METRICS_BASEBALL_PITCHING_V2\n",
    "\n",
    "# Update the label to whatever you'd like to be displayed in the visuals\n",
    "primary_segment_label = 'Primary Segment'\n",
    "comparison_segment_label = 'Comparison Segment'\n",
    "\n",
    "# Set these here, or use the drop down menu below (you don't need to do both)\n",
    "prim_seg_org_player_ids = None  # ['594798']  # This is an example of the input format\n",
    "comp_seg_org_player_ids = None"
   ],
   "metadata": {
    "collapsed": false
   }
  },
  {
   "cell_type": "code",
   "execution_count": null,
   "outputs": [],
   "source": [
    "#@title AWS Credentials\n",
    "\n",
    "# Upload your Organization's .env file to the local file system, per https://pypi.org/project/python-dotenv/\n",
    "#\n",
    "# Also, update the org_id in the field below to your own org_id\n",
    "# (note this isn't strictly necessary, the .env file will override what's written here)\n",
    "\n",
    "boto3_session = setup_aws(org_id=\"org-mlbbiomech\", aws_default_region=\"us-west-1\")"
   ],
   "metadata": {
    "collapsed": false
   }
  },
  {
   "cell_type": "code",
   "execution_count": null,
   "outputs": [],
   "source": [
    "#@title Instantiate the AI instance\n",
    "\n",
    "# In order to use this Notebook, you must create your own Open AI API Key.\n",
    "# See the Open AI API docs here: https://platform.openai.com/overview\n",
    "\n",
    "# Open AI\n",
    "# The Open AI privacy policy can be found here: https://openai.com/api-data-privacy\n",
    "\n",
    "# IN USING THIS NOTEBOOK, THE USER AGREES TO ASSUME ALL RISKS ASSOCIATED WITH THE USE OF GOOGLE COLAB AND OPENAI.\n",
    "# THERE ARE RISKS ASSOCIATED WITH USING AI, AS THE OUTPUT CAN BE UNPREDICTABLE,\n",
    "# PLEASE USE IT RESPONSIBLY.\n",
    "\n",
    "if 'OPENAI_API_KEY' not in os.environ:\n",
    "    os.environ['OPENAI_API_KEY'] = getpass('Input OPENAI_API_KEY here:')\n",
    "\n",
    "else:\n",
    "    print('OPENAI_API_KEY already present in environment')\n",
    "\n",
    "llm = OpenAI(api_token=os.environ['OPENAI_API_KEY'])\n",
    "\n",
    "# HOW THE ENFORCE PRIVACY PARAMETER WORKS:\n",
    "# FALSE - Randomize and shuffle the dataframe head (the first 5 rows) and send just the head to Open AI\n",
    "# TRUE -  Do not send the head to Open AI, only the column names\n",
    "pandas_ai = PandasAI(llm, enforce_privacy=True)"
   ],
   "metadata": {
    "collapsed": false
   }
  },
  {
   "cell_type": "code",
   "execution_count": null,
   "outputs": [],
   "source": [
    "#@title Set S3 File Info\n",
    "\n",
    "# Common changes you might want to make:\n",
    "\n",
    "# To analyze both Hawk-Eye HFR data from the Stats API,\n",
    "# and also Hawk-Eye Action files (e.g. from the DSP),\n",
    "#  set mocap_types=[MocapType.HAWKEYE_HFR, MocapType.HAWKEYE]\n",
    "\n",
    "# To analyze baseball-hitting,\n",
    "# set movement_type=MovementType.BASEBALL_HITTING\n",
    "\n",
    "# To analyze right-handed players,\n",
    "# set handedness=Handedness.RIGHT\n",
    "\n",
    "# See https://docs.rebootmotion.com/ for all available file types and the data in each\n",
    "\n",
    "# Update the below info to match your desired analysis information\n",
    "\n",
    "s3_metadata = S3Metadata(\n",
    "    org_id=os.environ['ORG_ID'],\n",
    "    mocap_types=mocap_types,\n",
    "    movement_type=movement_type,\n",
    "    handedness=handedness,\n",
    "    file_type=file_type,\n",
    ")\n",
    "\n",
    "s3_df = rtk.download_s3_summary_df(s3_metadata)"
   ],
   "metadata": {
    "collapsed": false
   }
  },
  {
   "cell_type": "code",
   "execution_count": null,
   "outputs": [],
   "source": [
    "#@title Display the Interface for Selecting the Primary Data Segment to Analyze\n",
    "\n",
    "primary_segment_widget = rtk.create_interactive_widget(s3_df)\n",
    "display(primary_segment_widget)"
   ],
   "metadata": {
    "collapsed": false
   }
  },
  {
   "cell_type": "code",
   "execution_count": null,
   "outputs": [],
   "source": [
    "#@title Set Primary Analysis Segment Info\n",
    "\n",
    "primary_segment_data = primary_segment_widget.children[1].result\n",
    "\n",
    "primary_analysis_segment = PlayerMetadata(\n",
    "    org_player_ids=primary_segment_data[\"org_player_ids\"] if not prim_seg_org_player_ids else prim_seg_org_player_ids,\n",
    "    session_dates=primary_segment_data[\"session_dates\"],\n",
    "    session_nums=primary_segment_data[\"session_nums\"],\n",
    "    session_date_start=primary_segment_data[\"session_date_start\"],\n",
    "    session_date_end=primary_segment_data[\"session_date_end\"],\n",
    "    year=primary_segment_data[\"year\"],\n",
    "    org_movement_id=None, # set the play GUID for the skeleton animation; None defaults to the first play\n",
    "    s3_metadata=s3_metadata,\n",
    ")\n",
    "\n",
    "primary_segment_summary_df = rtk.filter_s3_summary_df(primary_analysis_segment, s3_df)\n",
    "\n",
    "# Common Issue:\n",
    "# If no data files are returned here,\n",
    "# check that the segment selection widget and the S3 File Info above are set correctly,\n",
    "# also if the cells were updated after running once, check that they were run again with any new selections.\n",
    "\n",
    "# List all Available S3 data for the Primary Analysis Segment\n",
    "available_s3_keys = rtk.list_available_s3_keys(os.environ['ORG_ID'], primary_segment_summary_df)\n",
    "# Load the Primary Analysis Segment into an Analysis Dictionary with Mean and Standard Dev DataFrames\n",
    "primary_segment_data_df = rtk.load_games_to_df_from_s3_paths(primary_segment_summary_df['s3_path_delivery'].tolist())\n",
    "\n",
    "reboot_motion_metrics = list(primary_segment_data_df)"
   ],
   "metadata": {
    "collapsed": false
   }
  },
  {
   "cell_type": "code",
   "execution_count": null,
   "outputs": [],
   "source": [
    "#@title Optional: Uncomment to add information from the MLB Stats API and filter based on stats from Stats API\n",
    "# Filter the segment data down to a subset of pitches using metrics of your choice\n",
    "# In the last line, choose any of the metrics and filter the dataframe by that value\n",
    "# To apply multiple filters, use & for and; use | for or\n",
    "\n",
    "# Common Issue:\n",
    "# Missing element: data integrity issues in parsing. Majority of data is still likely fine.\n",
    "# Common metrics to filter by are: start_speed, end_speed, spin_rate, spin_direction, zone, pitch_type\n",
    "\n",
    "primary_segment_data_df = decorate_primary_segment_df_with_stats_api(primary_segment_data_df)\n",
    "# primary_segment_data_df = primary_segment_data_df[(primary_segment_data_df[\"start_speed\"] > 90) & (primary_segment_data_df[\"start_speed\"] < 100)]\n",
    "\n",
    "stats_api_metrics = [m for m in list(primary_segment_data_df) if m not in reboot_motion_metrics]\n",
    "print('Available Stats API Metrics:')\n",
    "print(stats_api_metrics)"
   ],
   "metadata": {
    "collapsed": false
   }
  },
  {
   "cell_type": "code",
   "execution_count": null,
   "outputs": [],
   "source": [
    "#@title Optional: Uncomment to have the AI automatically clean the data\n",
    "\n",
    "# pandas_ai.clean_data(primary_segment_data_df)"
   ],
   "metadata": {
    "collapsed": false
   }
  },
  {
   "cell_type": "code",
   "execution_count": null,
   "outputs": [],
   "source": [
    "#@title Use AI to explore the Primary Segment\n",
    "\n",
    "# Use this prompt to tell the AI what you would like it to do\n",
    "llm_prompt = f\"\"\"\n",
    "Plot start speed vs pitch hand proj max for only pitch type = Four-Seam Fastball\n",
    "\"\"\"\n",
    "\n",
    "pandas_ai.run(primary_segment_data_df, llm_prompt)"
   ],
   "metadata": {
    "collapsed": false
   }
  },
  {
   "cell_type": "code",
   "execution_count": null,
   "outputs": [],
   "source": [
    "#@title Display the Interface for Selecting the Comparison Data Segment to Analyze\n",
    "\n",
    "comparison_segment_widget = rtk.create_interactive_widget(s3_df)\n",
    "display(comparison_segment_widget)"
   ],
   "metadata": {
    "collapsed": false
   }
  },
  {
   "cell_type": "code",
   "execution_count": null,
   "outputs": [],
   "source": [
    "#@title Set Comparison Analysis Segment Inputs\n",
    "\n",
    "comparison_s3_metadata = s3_metadata\n",
    "comparison_segment_data = comparison_segment_widget.children[1].result\n",
    "\n",
    "comparison_analysis_segment = PlayerMetadata(\n",
    "    org_player_ids=comparison_segment_data[\"org_player_ids\"] if not comp_seg_org_player_ids else comp_seg_org_player_ids,\n",
    "    session_dates=comparison_segment_data[\"session_dates\"],\n",
    "    session_nums=comparison_segment_data[\"session_nums\"],\n",
    "    session_date_start=comparison_segment_data[\"session_date_start\"],\n",
    "    session_date_end=comparison_segment_data[\"session_date_end\"],\n",
    "    year=comparison_segment_data[\"year\"],\n",
    "    org_movement_id=None, # set the play GUID for the skeleton animation; None defaults to the first play\n",
    "    s3_metadata=comparison_s3_metadata,\n",
    ")\n",
    "\n",
    "comparison_segment_summary_df = rtk.filter_s3_summary_df(comparison_analysis_segment, s3_df)\n",
    "\n",
    "# Add Movement Num and S3 Key to Comparison DataFrame to Enable Sorting\n",
    "comp_available_s3_keys = rtk.list_available_s3_keys(os.environ['ORG_ID'], comparison_segment_summary_df)\n",
    "comparison_segment_data_df = rtk.load_games_to_df_from_s3_paths(comparison_segment_summary_df['s3_path_delivery'].tolist())\n",
    "comparison_segment_data_df = rtk.merge_data_df_with_s3_keys(comparison_segment_data_df , comp_available_s3_keys).sort_values(by=['session_date', 'movement_num'])"
   ],
   "metadata": {
    "collapsed": false
   }
  },
  {
   "cell_type": "code",
   "execution_count": null,
   "outputs": [],
   "source": [
    "#@title Optional: Uncomment to decorate biomechanics metrics with information from the MLB Stats API and filter based on stats from Stats API\n",
    "# Filter the segment data down to a subset of pitches using metrics of your choice\n",
    "# In the last line, choose any of the metrics and filter the dataframe by that value\n",
    "# To apply multiple filters, use & for and; use | for or\n",
    "\n",
    "# Common Issue:\n",
    "# Missing element: data integrity issues in parsing. Majority of data is still likely fine.\n",
    "# Common metrics to filter by are: start_speed, end_speed, spin_rate, spin_direction, zone, pitch_type\n",
    "\n",
    "comparison_segment_data_df = decorate_primary_segment_df_with_stats_api(comparison_segment_data_df)\n",
    "# comparison_segment_data_df = comparison_segment_data_df[(comparison_segment_data_df[\"start_speed\"] > 90) & (comparison_segment_data_df[\"start_speed\"] < 100)]"
   ],
   "metadata": {
    "collapsed": false
   }
  },
  {
   "cell_type": "code",
   "execution_count": null,
   "outputs": [],
   "source": [
    "#@title Optional: Uncomment to have the AI automatically clean the data\n",
    "\n",
    "# pandas_ai.clean_data(comparison_segment_summary_df)"
   ],
   "metadata": {
    "collapsed": false
   }
  },
  {
   "cell_type": "code",
   "execution_count": null,
   "outputs": [],
   "source": [
    "#@title Use AI to operate on the segment dataframes\n",
    "\n",
    "llm_prompt_comp_operate = f\"\"\"\n",
    "Concatenate dataframes along the index\n",
    "\"\"\"\n",
    "\n",
    "concatenated_df = pandas_ai.run([primary_segment_data_df, comparison_segment_data_df], llm_prompt_comp_operate)"
   ],
   "metadata": {
    "collapsed": false
   }
  },
  {
   "cell_type": "code",
   "execution_count": null,
   "outputs": [],
   "source": [
    "#@title Use Google Colab to explore the concatenated dataframes\n",
    "\n",
    "# Once you run this cell, the dataframe will be displayed below\n",
    "# Underneath the dataframe, there will be several buttons:\n",
    "# - One button will open the dataframe in an interactive mode\n",
    "# - The other button will suggest interesting visuals for the dataframe\n",
    "#     - if you click on a suggested visual, Colab will show the code to create the visual\n",
    "concatenated_df"
   ],
   "metadata": {
    "collapsed": false
   }
  },
  {
   "cell_type": "code",
   "execution_count": null,
   "outputs": [],
   "source": [
    "#@title Use AI to explore the segment dataframes together\n",
    "\n",
    "llm_prompt_comp_explore = f\"\"\"\n",
    "Concatenate the dataframes by the index, then group by session num and pitch type,\n",
    "then plot start speed vs pitch hand proj max, with a grid and a legend outside the chart area\n",
    "\"\"\"\n",
    "\n",
    "pandas_ai.run([primary_segment_data_df, comparison_segment_data_df], llm_prompt_comp_explore)"
   ],
   "metadata": {
    "collapsed": false
   }
  }
 ],
 "metadata": {
  "kernelspec": {
   "display_name": "Python 3",
   "language": "python",
   "name": "python3"
  },
  "language_info": {
   "codemirror_mode": {
    "name": "ipython",
    "version": 2
   },
   "file_extension": ".py",
   "mimetype": "text/x-python",
   "name": "python",
   "nbconvert_exporter": "python",
   "pygments_lexer": "ipython2",
   "version": "2.7.6"
  }
 },
 "nbformat": 4,
 "nbformat_minor": 0
}
