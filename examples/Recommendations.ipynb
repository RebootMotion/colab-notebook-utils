{
 "cells": [
  {
   "attachments": {},
   "cell_type": "markdown",
   "metadata": {},
   "source": [
    "# Demo Notebook for using the Reboot Recommendation Engine\n",
    "\n",
    "Run the cells in order, making sure to enter AWS credentials in the cell when prompted\n"
   ]
  },
  {
   "cell_type": "code",
   "execution_count": null,
   "metadata": {},
   "outputs": [],
   "source": [
    "#@title Install Python Packages\n",
    "\n",
    "!pip install git+https://github.com/RebootMotion/reboot-toolkit.git@v2.3.1#egg=reboot_toolkit > /dev/null\n",
    "!echo \"Done Installing\""
   ]
  },
  {
   "cell_type": "code",
   "execution_count": null,
   "metadata": {},
   "outputs": [],
   "source": [
    "#@title Import Statements\n",
    "\n",
    "import reboot_toolkit as rtk\n",
    "from reboot_toolkit import MovementType, setup_aws, MovementType, MocapType, Handedness, FileType, S3Metadata, PlayerMetadata\n",
    "import os"
   ]
  },
  {
   "cell_type": "code",
   "execution_count": null,
   "metadata": {},
   "outputs": [],
   "source": [
    "#@title AWS Credentials\n",
    "\n",
    "# Upload your Organization's .env file to the local file system, per https://pypi.org/project/python-dotenv/\n",
    "# Also, update the org_id in the field below to your own org_id\n",
    "\n",
    "boto3_session = setup_aws(org_id=\"org-mlbbiomech\", aws_default_region=\"us-west-1\")"
   ]
  },
  {
   "cell_type": "code",
   "execution_count": null,
   "metadata": {},
   "outputs": [],
   "source": [
    "#@title Set S3 File Info\n",
    "\n",
    "# Update the below info to match your desired analysis information\n",
    "mocap_type = MocapType.HAWKEYE_HFR\n",
    "movement_type = MovementType.BASEBALL_PITCHING\n",
    "handedness = Handedness.LEFT\n",
    "\n",
    "s3_metadata = S3Metadata(\n",
    "    org_id=os.environ['ORG_ID'],\n",
    "    mocap_types=[mocap_type],\n",
    "    movement_type=movement_type,\n",
    "    handedness=handedness,\n",
    "    file_type=FileType.METRICS_BASEBALL_PITCHING_V2\n",
    ")\n",
    "\n",
    "s3_df = rtk.download_s3_summary_df(s3_metadata)"
   ]
  },
  {
   "cell_type": "code",
   "execution_count": null,
   "metadata": {},
   "outputs": [],
   "source": [
    "#@title Display the Interface for Selecting the Primary Data Segment to Analyze\n",
    "\n",
    "primary_segment_widget = rtk.create_interactive_widget(s3_df)\n",
    "\n",
    "display(primary_segment_widget)"
   ]
  },
  {
   "cell_type": "code",
   "execution_count": null,
   "metadata": {},
   "outputs": [],
   "source": [
    "#@title Print the Selections for the Primary Data Segment to Analyze\n",
    "\n",
    "print('Options selected (re-run the above cell to refresh):')\n",
    "print(primary_segment_widget.result)"
   ]
  },
  {
   "cell_type": "code",
   "execution_count": null,
   "metadata": {},
   "outputs": [],
   "source": [
    "#@title Set Primary Analysis Segment Info\n",
    "\n",
    "# Update the label to whatever you'd like to be displayed in the visuals\n",
    "primary_segment_label = 'Primary Segment'\n",
    "\n",
    "primary_analysis_segment = PlayerMetadata(\n",
    "    org_player_ids=primary_segment_widget.result[\"org_player_ids\"],\n",
    "    session_dates=primary_segment_widget.result[\"session_dates\"],\n",
    "    session_nums=primary_segment_widget.result[\"session_nums\"],\n",
    "    session_date_start=primary_segment_widget.result[\"session_date_start\"],\n",
    "    session_date_end=primary_segment_widget.result[\"session_date_end\"],\n",
    "    year=primary_segment_widget.result[\"year\"],\n",
    "    org_movement_id=None, # set the play GUID for the skeleton animation; None defaults to the first play\n",
    "    s3_metadata=s3_metadata,\n",
    ")\n",
    "\n",
    "primary_segment_summary_df = rtk.filter_s3_summary_df(primary_analysis_segment, s3_df)"
   ]
  },
  {
   "cell_type": "code",
   "execution_count": null,
   "metadata": {},
   "outputs": [],
   "source": [
    "#@title Add Movement Num and S3 Key to Primary DataFrame to Enable Sorting\n",
    "\n",
    "prim_available_s3_keys = rtk.list_available_s3_keys(os.environ['ORG_ID'], primary_segment_summary_df)\n",
    "\n",
    "primary_segment_data_df = rtk.load_games_to_df_from_s3_paths(primary_segment_summary_df['s3_path_delivery'].tolist())\n",
    "\n",
    "primary_segment_data_df = rtk.merge_data_df_with_s3_keys(primary_segment_data_df, prim_available_s3_keys).sort_values(by=['session_date', 'movement_num'])"
   ]
  },
  {
   "cell_type": "code",
   "execution_count": null,
   "metadata": {},
   "outputs": [],
   "source": [
    "#@title Run metrics against Reboot Recommendation Engine\n",
    "\n",
    "\n",
    "\"\"\"\n",
    "This is a recommendation engine with the goal of giving coaches guidance on how to help their players improve.\n",
    "This recommendation engine is trained on player metrics as a predictor of fastball velocity for pitching and bat velocity for hitting. \n",
    "Using a random forest like model for training, the recommendation engine then extracts the impact of individual metrics on the overall result.\n",
    "Given a player's metrics, the engine is then able to recommend aspects to focus on to improve the overall result.\n",
    "\"\"\"\n",
    "df = rtk.recommendation(boto3_session, primary_segment_data_df, movement_type, mocap_type, handedness)"
   ]
  },
  {
   "cell_type": "code",
   "execution_count": null,
   "metadata": {},
   "outputs": [],
   "source": [
    "df"
   ]
  },
  {
   "cell_type": "code",
   "execution_count": null,
   "metadata": {},
   "outputs": [],
   "source": [
    "fig = rtk.recommendation_violin_plot(boto3_session, primary_segment_data_df, movement_type, mocap_type, handedness, num_features=5)\n",
    "fig.show()"
   ]
  },
  {
   "cell_type": "code",
   "execution_count": null,
   "metadata": {},
   "outputs": [],
   "source": []
  }
 ],
 "metadata": {
  "kernelspec": {
   "display_name": "jupyter",
   "language": "python",
   "name": "python3"
  },
  "language_info": {
   "codemirror_mode": {
    "name": "ipython",
    "version": 3
   },
   "file_extension": ".py",
   "mimetype": "text/x-python",
   "name": "python",
   "nbconvert_exporter": "python",
   "pygments_lexer": "ipython3",
   "version": "3.10.9"
  },
  "orig_nbformat": 4
 },
 "nbformat": 4,
 "nbformat_minor": 2
}
