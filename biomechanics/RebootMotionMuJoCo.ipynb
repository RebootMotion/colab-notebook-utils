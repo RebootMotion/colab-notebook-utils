{
 "cells": [
  {
   "cell_type": "markdown",
   "metadata": {
    "id": "tSkr03E15m2w"
   },
   "source": [
    "# Notebook for Integrating Reboot Motion Data with MuJoCo\n",
    "\n",
    "__[CoLab Notebook Link](https://githubtocolab.com/RebootMotion/reboot-toolkit/blob/main/examples/RebootMotionMuJoCo.ipynb)__\n",
    "\n",
    "Run the cells in order, making sure to enter AWS credentials in the cell when prompted"
   ]
  },
  {
   "cell_type": "code",
   "execution_count": null,
   "metadata": {
    "cellView": "form",
    "colab": {
     "base_uri": "https://localhost:8080/"
    },
    "id": "CtfKvfQHlHdx",
    "outputId": "c7ae1dab-ae22-4f86-dfce-9e7524ec2567",
    "pycharm": {
     "is_executing": true
    }
   },
   "outputs": [],
   "source": [
    "#@title Install Python Package\n",
    "\n",
    "!pip install git+https://github.com/RebootMotion/reboot-toolkit.git@jimmy/add_mujoco > /dev/null\n",
    "!pip install git+https://github.com/RebootMotion/mlb-statsapi.git@v1.1.0#egg=mlb_statsapi > /dev/null\n",
    "!echo \"Done Installing\""
   ]
  },
  {
   "cell_type": "code",
   "execution_count": null,
   "metadata": {
    "cellView": "form",
    "id": "2FxRcqDgEXce"
   },
   "outputs": [],
   "source": [
    "#@title Import Python Libraries\n",
    "\n",
    "import matplotlib.pyplot as plt\n",
    "import os\n",
    "import pandas as pd\n",
    "\n",
    "import reboot_toolkit as rtk\n",
    "\n",
    "from reboot_toolkit import S3Metadata, MocapType, MovementType, Handedness, FileType, PlayerMetadata, setup_aws, decorate_primary_segment_df_with_stats_api\n",
    "from IPython.display import display"
   ]
  },
  {
   "cell_type": "code",
   "execution_count": null,
   "metadata": {},
   "outputs": [],
   "source": [
    "#@title User Input - No code changes required below this section, just enter information in forms\n",
    "\n",
    "# Update the below info to match your desired analysis information\n",
    "# Common changes you might want to make:\n",
    "\n",
    "# To analyze both Hawk-Eye HFR data from the Stats API,\n",
    "# and also Hawk-Eye Action files (e.g. from the DSP),\n",
    "#  set mocap_types=[MocapType.HAWKEYE_HFR, MocapType.HAWKEYE]\n",
    "\n",
    "# To analyze baseball-hitting,\n",
    "# set movement_type=MovementType.BASEBALL_HITTING\n",
    "\n",
    "# To analyze right-handed players,\n",
    "# set handedness=Handedness.RIGHT\n",
    "\n",
    "# To analyze data from the momentum and energy files,\n",
    "# set file_type=FileType.MOMENTUM_ENERGY\n",
    "\n",
    "# See https://docs.rebootmotion.com/ for all available file types and the data in each\n",
    "mocap_types = [MocapType.HAWKEYE_HFR]\n",
    "movement_type = MovementType.BASEBALL_PITCHING\n",
    "handedness = Handedness.LEFT\n",
    "file_type = FileType.INVERSE_KINEMATICS\n",
    "\n",
    "# Update the label to whatever you'd like to be displayed in the visuals\n",
    "primary_segment_label = 'Primary Segment'\n",
    "comparison_segment_label = 'Comparison Segment'"
   ]
  },
  {
   "cell_type": "code",
   "execution_count": null,
   "metadata": {
    "colab": {
     "base_uri": "https://localhost:8080/"
    },
    "executionInfo": {
     "elapsed": 243357,
     "status": "ok",
     "timestamp": 1682088623455,
     "user": {
      "displayName": "Jimmy Buffi",
      "userId": "02111946216068691065"
     },
     "user_tz": 420
    },
    "id": "IGSVVhSKWZKY",
    "outputId": "cbc1838b-c5c2-4e6a-ee3b-5e712a550440"
   },
   "outputs": [],
   "source": [
    "#@title AWS Credentials\n",
    "\n",
    "# Upload your Organization's .env file to the local file system, per https://pypi.org/project/python-dotenv/\n",
    "#\n",
    "# Also, update the org_id in the field below to your own org_id\n",
    "# (note this isn't strictly necessary, the .env file will override what's written here)\n",
    "\n",
    "boto3_session = setup_aws(org_id=\"org-mlbbiomech\", aws_default_region=\"us-west-1\")"
   ]
  },
  {
   "cell_type": "code",
   "execution_count": null,
   "metadata": {},
   "outputs": [],
   "source": [
    "#@title Set S3 File Info\n",
    "\n",
    "s3_metadata = S3Metadata(\n",
    "    org_id=os.environ['ORG_ID'],\n",
    "    mocap_types=mocap_types,\n",
    "    movement_type=movement_type,\n",
    "    handedness=handedness,\n",
    "    file_type=file_type,\n",
    ")\n",
    "\n",
    "s3_df = rtk.download_s3_summary_df(s3_metadata)"
   ]
  },
  {
   "cell_type": "code",
   "execution_count": null,
   "metadata": {},
   "outputs": [],
   "source": [
    "#@title Display the Interface for Selecting the Primary Data Segment to Analyze\n",
    "\n",
    "# Run this cell to display the dropdown menus and reset all options to NULL\n",
    "primary_segment_widget = rtk.create_interactive_widget(s3_df)\n",
    "display(primary_segment_widget)"
   ]
  },
  {
   "cell_type": "code",
   "execution_count": null,
   "metadata": {},
   "outputs": [],
   "source": [
    "#@title Set Primary Analysis Segment Info\n",
    "\n",
    "primary_segment_data = primary_segment_widget.children[1].result\n",
    "primary_analysis_segment = PlayerMetadata(\n",
    "    org_player_ids=primary_segment_data[\"org_player_ids\"],\n",
    "    session_dates=primary_segment_data[\"session_dates\"],\n",
    "    session_nums=primary_segment_data[\"session_nums\"],\n",
    "    session_date_start=primary_segment_data[\"session_date_start\"],\n",
    "    session_date_end=primary_segment_data[\"session_date_end\"],\n",
    "    year=primary_segment_data[\"year\"],\n",
    "    org_movement_id=None, # set the play GUID for the skeleton animation; None defaults to the first play\n",
    "    s3_metadata=s3_metadata,\n",
    ")\n",
    "\n",
    "primary_segment_summary_df = rtk.filter_s3_summary_df(primary_analysis_segment, s3_df)\n",
    "\n",
    "# Common Issue:\n",
    "# If no data files are returned here,\n",
    "# check that the segment selection widget and the S3 File Info above are set correctly,\n",
    "# also if the cells were updated after running once, check that they were run again with any new selections.\n",
    "\n",
    "# List all Available S3 data for the Primary Analysis Segment\n",
    "available_s3_keys = rtk.list_available_s3_keys(os.environ['ORG_ID'], primary_segment_summary_df)\n",
    "# Load the Primary Analysis Segment into an Analysis Dictionary with Mean and Standard Dev DataFrames\n",
    "primary_segment_data_df = rtk.load_games_to_df_from_s3_paths(primary_segment_summary_df['s3_path_delivery'].tolist())"
   ]
  },
  {
   "cell_type": "code",
   "execution_count": null,
   "metadata": {},
   "outputs": [],
   "source": [
    "#@title Optional: Uncomment to decorate biomechanics metrics with information from the MLB Stats API and filter based on stats from Stats API\n",
    "# Filter the segment data down to a subset of pitches using metrics of your choice\n",
    "# In the last line, choose any of the metrics and filter the dataframe by that value\n",
    "# To apply multiple filters, use & for and; use | for or\n",
    "\n",
    "# Common Issue:\n",
    "# Missing element: data integrity issues in parsing. Majority of data is still likely fine.\n",
    "# Common metrics to filter by are: start_speed, end_speed, spin_rate, spin_direction, zone, pitch_type\n",
    "\n",
    "primary_segment_data_df = decorate_primary_segment_df_with_stats_api(primary_segment_data_df)\n",
    "# primary_segment_data_df = primary_segment_data_df[(primary_segment_data_df[\"start_speed\"] > 90) & (primary_segment_data_df[\"start_speed\"] < 100)]"
   ]
  },
  {
   "cell_type": "code",
   "execution_count": null,
   "metadata": {},
   "outputs": [],
   "source": [
    "#@title Display the Interface for Selecting the Comparison Data Segment to Analyze\n",
    "\n",
    "comparison_segment_widget = rtk.create_interactive_widget(s3_df)\n",
    "display(comparison_segment_widget)"
   ]
  },
  {
   "cell_type": "code",
   "execution_count": null,
   "metadata": {},
   "outputs": [],
   "source": [
    "#@title Set Comparison Analysis Segment Inputs\n",
    "\n",
    "comparison_s3_metadata = s3_metadata\n",
    "comparison_segment_data = comparison_segment_widget.children[1].result\n",
    "\n",
    "comparison_analysis_segment = PlayerMetadata(\n",
    "    org_player_ids=comparison_segment_data[\"org_player_ids\"],\n",
    "    session_dates=comparison_segment_data[\"session_dates\"],\n",
    "    session_nums=comparison_segment_data[\"session_nums\"],\n",
    "    session_date_start=comparison_segment_data[\"session_date_start\"],\n",
    "    session_date_end=comparison_segment_data[\"session_date_end\"],\n",
    "    year=comparison_segment_data[\"year\"],\n",
    "    org_movement_id=None, # set the play GUID for the skeleton animation; None defaults to the first play\n",
    "    s3_metadata=comparison_s3_metadata,\n",
    ")\n",
    "\n",
    "comparison_segment_summary_df = rtk.filter_s3_summary_df(comparison_analysis_segment, s3_df)\n",
    "comparison_segment_data_df = rtk.load_games_to_df_from_s3_paths(comparison_segment_summary_df['s3_path_delivery'].tolist())"
   ]
  },
  {
   "cell_type": "code",
   "execution_count": null,
   "metadata": {},
   "outputs": [],
   "source": [
    "#@title Optional: Uncomment to decorate biomechanics metrics with information from the MLB Stats API and filter based on stats from Stats API\n",
    "# Filter the segment data down to a subset of pitches using metrics of your choice\n",
    "# In the last line, choose any of the metrics and filter the dataframe by that value\n",
    "# To apply multiple filters, use & for and; use | for or\n",
    "\n",
    "# Common Issue:\n",
    "# Missing element: data integrity issues in parsing. Majority of data is still likely fine.\n",
    "# Common metrics to filter by are: start_speed, end_speed, spin_rate, spin_direction, zone, pitch_type\n",
    "\n",
    "comparison_segment_data_df = decorate_primary_segment_df_with_stats_api(comparison_segment_data_df)\n",
    "# comparison_segment_data_df = comparison_segment_data_df[(comparison_segment_data_df[\"start_speed\"] > 90) & (comparison_segment_data_df[\"start_speed\"] < 100)]"
   ]
  },
  {
   "cell_type": "code",
   "execution_count": null,
   "outputs": [],
   "source": [],
   "metadata": {
    "collapsed": false
   }
  }
 ],
 "metadata": {
  "colab": {
   "provenance": []
  },
  "gpuClass": "standard",
  "kernelspec": {
   "display_name": "Python 3 (ipykernel)",
   "language": "python",
   "name": "python3"
  },
  "language_info": {
   "codemirror_mode": {
    "name": "ipython",
    "version": 3
   },
   "file_extension": ".py",
   "mimetype": "text/x-python",
   "name": "python",
   "nbconvert_exporter": "python",
   "pygments_lexer": "ipython3",
   "version": "3.9.17"
  }
 },
 "nbformat": 4,
 "nbformat_minor": 1
}
